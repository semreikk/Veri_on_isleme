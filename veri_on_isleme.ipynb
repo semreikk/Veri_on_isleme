{
  "nbformat": 4,
  "nbformat_minor": 0,
  "metadata": {
    "kernelspec": {
      "display_name": "Python 3",
      "language": "python",
      "name": "python3"
    },
    "language_info": {
      "codemirror_mode": {
        "name": "ipython",
        "version": 3
      },
      "file_extension": ".py",
      "mimetype": "text/x-python",
      "name": "python",
      "nbconvert_exporter": "python",
      "pygments_lexer": "ipython3",
      "version": "3.7.6"
    },
    "colab": {
      "name": "veri_on_isleme.ipynb",
      "provenance": []
    }
  },
  "cells": [
    {
      "cell_type": "code",
      "metadata": {
        "id": "12hHsUwSbHx8",
        "colab_type": "code",
        "colab": {
          "base_uri": "https://localhost:8080/",
          "height": 204
        },
        "outputId": "8cf941cc-2ef3-412b-87ca-585b0f731486"
      },
      "source": [
        "import seaborn as sns\n",
        "diamonds = sns.load_dataset(\"diamonds\")\n",
        "df = diamonds.copy()\n",
        "df = df.select_dtypes(include = ['float64','int64'])\n",
        "df.head()                                 "
      ],
      "execution_count": 131,
      "outputs": [
        {
          "output_type": "execute_result",
          "data": {
            "text/html": [
              "<div>\n",
              "<style scoped>\n",
              "    .dataframe tbody tr th:only-of-type {\n",
              "        vertical-align: middle;\n",
              "    }\n",
              "\n",
              "    .dataframe tbody tr th {\n",
              "        vertical-align: top;\n",
              "    }\n",
              "\n",
              "    .dataframe thead th {\n",
              "        text-align: right;\n",
              "    }\n",
              "</style>\n",
              "<table border=\"1\" class=\"dataframe\">\n",
              "  <thead>\n",
              "    <tr style=\"text-align: right;\">\n",
              "      <th></th>\n",
              "      <th>carat</th>\n",
              "      <th>depth</th>\n",
              "      <th>table</th>\n",
              "      <th>price</th>\n",
              "      <th>x</th>\n",
              "      <th>y</th>\n",
              "      <th>z</th>\n",
              "    </tr>\n",
              "  </thead>\n",
              "  <tbody>\n",
              "    <tr>\n",
              "      <th>0</th>\n",
              "      <td>0.23</td>\n",
              "      <td>61.5</td>\n",
              "      <td>55.0</td>\n",
              "      <td>326</td>\n",
              "      <td>3.95</td>\n",
              "      <td>3.98</td>\n",
              "      <td>2.43</td>\n",
              "    </tr>\n",
              "    <tr>\n",
              "      <th>1</th>\n",
              "      <td>0.21</td>\n",
              "      <td>59.8</td>\n",
              "      <td>61.0</td>\n",
              "      <td>326</td>\n",
              "      <td>3.89</td>\n",
              "      <td>3.84</td>\n",
              "      <td>2.31</td>\n",
              "    </tr>\n",
              "    <tr>\n",
              "      <th>2</th>\n",
              "      <td>0.23</td>\n",
              "      <td>56.9</td>\n",
              "      <td>65.0</td>\n",
              "      <td>327</td>\n",
              "      <td>4.05</td>\n",
              "      <td>4.07</td>\n",
              "      <td>2.31</td>\n",
              "    </tr>\n",
              "    <tr>\n",
              "      <th>3</th>\n",
              "      <td>0.29</td>\n",
              "      <td>62.4</td>\n",
              "      <td>58.0</td>\n",
              "      <td>334</td>\n",
              "      <td>4.20</td>\n",
              "      <td>4.23</td>\n",
              "      <td>2.63</td>\n",
              "    </tr>\n",
              "    <tr>\n",
              "      <th>4</th>\n",
              "      <td>0.31</td>\n",
              "      <td>63.3</td>\n",
              "      <td>58.0</td>\n",
              "      <td>335</td>\n",
              "      <td>4.34</td>\n",
              "      <td>4.35</td>\n",
              "      <td>2.75</td>\n",
              "    </tr>\n",
              "  </tbody>\n",
              "</table>\n",
              "</div>"
            ],
            "text/plain": [
              "   carat  depth  table  price     x     y     z\n",
              "0   0.23   61.5   55.0    326  3.95  3.98  2.43\n",
              "1   0.21   59.8   61.0    326  3.89  3.84  2.31\n",
              "2   0.23   56.9   65.0    327  4.05  4.07  2.31\n",
              "3   0.29   62.4   58.0    334  4.20  4.23  2.63\n",
              "4   0.31   63.3   58.0    335  4.34  4.35  2.75"
            ]
          },
          "metadata": {
            "tags": []
          },
          "execution_count": 131
        }
      ]
    },
    {
      "cell_type": "code",
      "metadata": {
        "id": "MqWBRCXnbHyC",
        "colab_type": "code",
        "colab": {}
      },
      "source": [
        "df_table = df[\"table\"].copy()"
      ],
      "execution_count": 0,
      "outputs": []
    },
    {
      "cell_type": "code",
      "metadata": {
        "id": "8qflbj07bHyF",
        "colab_type": "code",
        "colab": {
          "base_uri": "https://localhost:8080/",
          "height": 296
        },
        "outputId": "788fecbf-47cb-429a-c6d0-f4e4d56715fe"
      },
      "source": [
        "sns.boxplot(x = df_table)\n",
        "# boxplot özelliğinde en düşük ve en yüksek değer çizgiyle belirtilmiştir.\n",
        "# bu çi<gilerin dışı aykırı gözlem olarak kabul edilir."
      ],
      "execution_count": 133,
      "outputs": [
        {
          "output_type": "execute_result",
          "data": {
            "text/plain": [
              "<matplotlib.axes._subplots.AxesSubplot at 0x7f0ff844b2b0>"
            ]
          },
          "metadata": {
            "tags": []
          },
          "execution_count": 133
        },
        {
          "output_type": "display_data",
          "data": {
            "image/png": "[encoded data removed]",
            "text/plain": [
              "<Figure size 432x288 with 1 Axes>"
            ]
          },
          "metadata": {
            "tags": [],
            "needs_background": "light"
          }
        }
      ]
    },
    {
      "cell_type": "code",
      "metadata": {
        "id": "SFIbG4NqbHyI",
        "colab_type": "code",
        "colab": {}
      },
      "source": [
        "# interquantile range yöntemiyle aykırı gözlemlerin eşik değerini hesaplayacağız."
      ],
      "execution_count": 0,
      "outputs": []
    },
    {
      "cell_type": "code",
      "metadata": {
        "id": "OqadKT6YbHyK",
        "colab_type": "code",
        "colab": {
          "base_uri": "https://localhost:8080/",
          "height": 34
        },
        "outputId": "af9fbdea-104d-4bce-dbd7-1857baac83dd"
      },
      "source": [
        "# quantile fonksiyonu, değerler küçükten büyüğe sıralandığında belirtilen mikarını alır.\n",
        "Q1 = df_table.quantile(0.25) #ilk çeyrek\n",
        "Q3 = df_table.quantile(0.75) # üçüncü çeyrek\n",
        "IQR = Q3-Q1 # üçüncü çeyrekten birinci çeyrek çıkartılır ve bir sabit oluşturulur.(ıqr-interquantile)\n",
        "\n",
        "alt_sinir = Q1-1.5*IQR # Q1 den   sabitin 1,5 katı çıkarılır bu alt sınırdır\n",
        "alt_sinir\n",
        "ust_sinir = Q3 + 1.5*IQR # Q3 ile sabitin 1,5 katı toplanır. üst sınır oluştur.\n",
        "ust_sinir"
      ],
      "execution_count": 135,
      "outputs": [
        {
          "output_type": "execute_result",
          "data": {
            "text/plain": [
              "63.5"
            ]
          },
          "metadata": {
            "tags": []
          },
          "execution_count": 135
        }
      ]
    },
    {
      "cell_type": "code",
      "metadata": {
        "id": "9msralDObHyN",
        "colab_type": "code",
        "colab": {
          "base_uri": "https://localhost:8080/",
          "height": 34
        },
        "outputId": "93133b83-624f-4d53-9ad4-10653e389b95"
      },
      "source": [
        "Q1"
      ],
      "execution_count": 136,
      "outputs": [
        {
          "output_type": "execute_result",
          "data": {
            "text/plain": [
              "56.0"
            ]
          },
          "metadata": {
            "tags": []
          },
          "execution_count": 136
        }
      ]
    },
    {
      "cell_type": "code",
      "metadata": {
        "id": "r-_g289sbHyQ",
        "colab_type": "code",
        "colab": {
          "base_uri": "https://localhost:8080/",
          "height": 34
        },
        "outputId": "4c264b47-ab16-46f6-8d29-74e46a6fc252"
      },
      "source": [
        "Q3"
      ],
      "execution_count": 137,
      "outputs": [
        {
          "output_type": "execute_result",
          "data": {
            "text/plain": [
              "59.0"
            ]
          },
          "metadata": {
            "tags": []
          },
          "execution_count": 137
        }
      ]
    },
    {
      "cell_type": "code",
      "metadata": {
        "id": "PjMd6PtybHyT",
        "colab_type": "code",
        "colab": {
          "base_uri": "https://localhost:8080/",
          "height": 34
        },
        "outputId": "efecd652-9d87-424e-d912-5a269bfaa39c"
      },
      "source": [
        "\n",
        "IQR"
      ],
      "execution_count": 138,
      "outputs": [
        {
          "output_type": "execute_result",
          "data": {
            "text/plain": [
              "3.0"
            ]
          },
          "metadata": {
            "tags": []
          },
          "execution_count": 138
        }
      ]
    },
    {
      "cell_type": "code",
      "metadata": {
        "id": "7-j1Y8A5bHyW",
        "colab_type": "code",
        "colab": {
          "base_uri": "https://localhost:8080/",
          "height": 34
        },
        "outputId": "3bfbb152-524a-4f4e-9451-3639f5939101"
      },
      "source": [
        "alt_sinir"
      ],
      "execution_count": 139,
      "outputs": [
        {
          "output_type": "execute_result",
          "data": {
            "text/plain": [
              "51.5"
            ]
          },
          "metadata": {
            "tags": []
          },
          "execution_count": 139
        }
      ]
    },
    {
      "cell_type": "code",
      "metadata": {
        "id": "ZNa2xCk8bHyY",
        "colab_type": "code",
        "colab": {
          "base_uri": "https://localhost:8080/",
          "height": 34
        },
        "outputId": "f533c7b4-296d-41db-87de-31b1f3c77ca6"
      },
      "source": [
        "ust_sinir"
      ],
      "execution_count": 140,
      "outputs": [
        {
          "output_type": "execute_result",
          "data": {
            "text/plain": [
              "63.5"
            ]
          },
          "metadata": {
            "tags": []
          },
          "execution_count": 140
        }
      ]
    },
    {
      "cell_type": "code",
      "metadata": {
        "id": "_EYFZHPtbHyb",
        "colab_type": "code",
        "colab": {
          "base_uri": "https://localhost:8080/",
          "height": 221
        },
        "outputId": "9ad786ec-eeb6-45e0-d7bb-a799291234e3"
      },
      "source": [
        "(df_table<(alt_sinir)) |(df_table)>(ust_sinir) # aykırı değer sorgulaması\n",
        "# alt sinir ve üst sınırın dışında kalanlar aykırı gözlemdir ve true döner\n"
      ],
      "execution_count": 141,
      "outputs": [
        {
          "output_type": "execute_result",
          "data": {
            "text/plain": [
              "0        False\n",
              "1        False\n",
              "2        False\n",
              "3        False\n",
              "4        False\n",
              "         ...  \n",
              "53935    False\n",
              "53936    False\n",
              "53937    False\n",
              "53938    False\n",
              "53939    False\n",
              "Name: table, Length: 53940, dtype: bool"
            ]
          },
          "metadata": {
            "tags": []
          },
          "execution_count": 141
        }
      ]
    },
    {
      "cell_type": "code",
      "metadata": {
        "id": "ReGzxUtjbHyd",
        "colab_type": "code",
        "colab": {
          "base_uri": "https://localhost:8080/",
          "height": 221
        },
        "outputId": "6280aa91-a57e-4338-8f28-27a9725e7b52"
      },
      "source": [
        "df_table < (alt_sinir)"
      ],
      "execution_count": 142,
      "outputs": [
        {
          "output_type": "execute_result",
          "data": {
            "text/plain": [
              "0        False\n",
              "1        False\n",
              "2        False\n",
              "3        False\n",
              "4        False\n",
              "         ...  \n",
              "53935    False\n",
              "53936    False\n",
              "53937    False\n",
              "53938    False\n",
              "53939    False\n",
              "Name: table, Length: 53940, dtype: bool"
            ]
          },
          "metadata": {
            "tags": []
          },
          "execution_count": 142
        }
      ]
    },
    {
      "cell_type": "code",
      "metadata": {
        "id": "jNu_RxK7bHyg",
        "colab_type": "code",
        "colab": {}
      },
      "source": [
        "aykiri_tf = df_table < (alt_sinir)  # örnek olarak alttan aykırıları ele alalım"
      ],
      "execution_count": 0,
      "outputs": []
    },
    {
      "cell_type": "code",
      "metadata": {
        "id": "V6LDOfK0bHyj",
        "colab_type": "code",
        "colab": {
          "base_uri": "https://localhost:8080/",
          "height": 204
        },
        "outputId": "0e2fb5df-623f-4b79-bb23-2f78977b4ac0"
      },
      "source": [
        "aykiri_tf[0:10]"
      ],
      "execution_count": 144,
      "outputs": [
        {
          "output_type": "execute_result",
          "data": {
            "text/plain": [
              "0    False\n",
              "1    False\n",
              "2    False\n",
              "3    False\n",
              "4    False\n",
              "5    False\n",
              "6    False\n",
              "7    False\n",
              "8    False\n",
              "9    False\n",
              "Name: table, dtype: bool"
            ]
          },
          "metadata": {
            "tags": []
          },
          "execution_count": 144
        }
      ]
    },
    {
      "cell_type": "code",
      "metadata": {
        "id": "mx0WzG_obHyl",
        "colab_type": "code",
        "colab": {
          "base_uri": "https://localhost:8080/",
          "height": 68
        },
        "outputId": "84b8c117-d6c4-4b20-8cfe-1915689a3d29"
      },
      "source": [
        "aykirilar = df_table[aykiri_tf]\n",
        "aykirilar.index"
      ],
      "execution_count": 145,
      "outputs": [
        {
          "output_type": "execute_result",
          "data": {
            "text/plain": [
              "Int64Index([ 1515,  3238,  3979,  4150,  5979,  7418,  8853, 11368, 22701,\n",
              "            25179, 26387, 33586, 35633, 45798, 46040, 47630],\n",
              "           dtype='int64')"
            ]
          },
          "metadata": {
            "tags": []
          },
          "execution_count": 145
        }
      ]
    },
    {
      "cell_type": "markdown",
      "metadata": {
        "id": "ayHLbrwnbHyo",
        "colab_type": "text"
      },
      "source": [
        "#### Aykiri değerler problemini çözmek"
      ]
    },
    {
      "cell_type": "code",
      "metadata": {
        "id": "rIuJPFUrbHyo",
        "colab_type": "code",
        "colab": {}
      },
      "source": [
        "import pandas as pd\n",
        "type(df_table)\n",
        "df_table.shape\n",
        "df_table = pd.DataFrame(df_table) #numpy arrayi DataFrame e çevirilmezse \n",
        "# aşağıdaki aykırıları ayıklama işlemini yapamazdık."
      ],
      "execution_count": 0,
      "outputs": []
    },
    {
      "cell_type": "code",
      "metadata": {
        "id": "UveAagmEbHyr",
        "colab_type": "code",
        "colab": {}
      },
      "source": [
        "temiz_df_table = df_table[~((df_table< (alt_sinir)) | (df_table > (ust_sinir))).any(axis=1)]\n",
        "# ~ işareti hariç anlamına gelir böylece df_table den aykırıları sildik. any kulllanarak sütun şeklinde oluşturfuk."
      ],
      "execution_count": 0,
      "outputs": []
    },
    {
      "cell_type": "code",
      "metadata": {
        "id": "GZeQ9XKubHyu",
        "colab_type": "code",
        "colab": {
          "base_uri": "https://localhost:8080/",
          "height": 419
        },
        "outputId": "d81bdc89-f116-449c-bde2-5b69751ad192"
      },
      "source": [
        "temiz_df_table\n"
      ],
      "execution_count": 148,
      "outputs": [
        {
          "output_type": "execute_result",
          "data": {
            "text/html": [
              "<div>\n",
              "<style scoped>\n",
              "    .dataframe tbody tr th:only-of-type {\n",
              "        vertical-align: middle;\n",
              "    }\n",
              "\n",
              "    .dataframe tbody tr th {\n",
              "        vertical-align: top;\n",
              "    }\n",
              "\n",
              "    .dataframe thead th {\n",
              "        text-align: right;\n",
              "    }\n",
              "</style>\n",
              "<table border=\"1\" class=\"dataframe\">\n",
              "  <thead>\n",
              "    <tr style=\"text-align: right;\">\n",
              "      <th></th>\n",
              "      <th>table</th>\n",
              "    </tr>\n",
              "  </thead>\n",
              "  <tbody>\n",
              "    <tr>\n",
              "      <th>0</th>\n",
              "      <td>55.0</td>\n",
              "    </tr>\n",
              "    <tr>\n",
              "      <th>1</th>\n",
              "      <td>61.0</td>\n",
              "    </tr>\n",
              "    <tr>\n",
              "      <th>3</th>\n",
              "      <td>58.0</td>\n",
              "    </tr>\n",
              "    <tr>\n",
              "      <th>4</th>\n",
              "      <td>58.0</td>\n",
              "    </tr>\n",
              "    <tr>\n",
              "      <th>5</th>\n",
              "      <td>57.0</td>\n",
              "    </tr>\n",
              "    <tr>\n",
              "      <th>...</th>\n",
              "      <td>...</td>\n",
              "    </tr>\n",
              "    <tr>\n",
              "      <th>53935</th>\n",
              "      <td>57.0</td>\n",
              "    </tr>\n",
              "    <tr>\n",
              "      <th>53936</th>\n",
              "      <td>55.0</td>\n",
              "    </tr>\n",
              "    <tr>\n",
              "      <th>53937</th>\n",
              "      <td>60.0</td>\n",
              "    </tr>\n",
              "    <tr>\n",
              "      <th>53938</th>\n",
              "      <td>58.0</td>\n",
              "    </tr>\n",
              "    <tr>\n",
              "      <th>53939</th>\n",
              "      <td>55.0</td>\n",
              "    </tr>\n",
              "  </tbody>\n",
              "</table>\n",
              "<p>53335 rows × 1 columns</p>\n",
              "</div>"
            ],
            "text/plain": [
              "       table\n",
              "0       55.0\n",
              "1       61.0\n",
              "3       58.0\n",
              "4       58.0\n",
              "5       57.0\n",
              "...      ...\n",
              "53935   57.0\n",
              "53936   55.0\n",
              "53937   60.0\n",
              "53938   58.0\n",
              "53939   55.0\n",
              "\n",
              "[53335 rows x 1 columns]"
            ]
          },
          "metadata": {
            "tags": []
          },
          "execution_count": 148
        }
      ]
    },
    {
      "cell_type": "code",
      "metadata": {
        "id": "qKR73TMVbHyw",
        "colab_type": "code",
        "colab": {}
      },
      "source": [
        "# şimdi aykırı gözlemlerden kurtulmak için ortalamayla doldurma yöntemini ele alacağız."
      ],
      "execution_count": 0,
      "outputs": []
    },
    {
      "cell_type": "code",
      "metadata": {
        "id": "c8iExA-_bHyy",
        "colab_type": "code",
        "colab": {}
      },
      "source": [
        "df_table = df[\"table\"].copy()"
      ],
      "execution_count": 0,
      "outputs": []
    },
    {
      "cell_type": "code",
      "metadata": {
        "id": "Oa-A9w8kbHy0",
        "colab_type": "code",
        "colab": {
          "base_uri": "https://localhost:8080/",
          "height": 296
        },
        "outputId": "981d6ea6-9a7f-4c57-8b66-01568454c0e6"
      },
      "source": [
        "sns.boxplot(x = df_table)"
      ],
      "execution_count": 151,
      "outputs": [
        {
          "output_type": "execute_result",
          "data": {
            "text/plain": [
              "<matplotlib.axes._subplots.AxesSubplot at 0x7f0ff8423f28>"
            ]
          },
          "metadata": {
            "tags": []
          },
          "execution_count": 151
        },
        {
          "output_type": "display_data",
          "data": {
            "image/png": "[encoded data removed]",
            "text/plain": [
              "<Figure size 432x288 with 1 Axes>"
            ]
          },
          "metadata": {
            "tags": [],
            "needs_background": "light"
          }
        }
      ]
    },
    {
      "cell_type": "code",
      "metadata": {
        "id": "X4Wzd8kcbHy2",
        "colab_type": "code",
        "colab": {
          "base_uri": "https://localhost:8080/",
          "height": 306
        },
        "outputId": "ecfc04cc-ccc9-472d-e33b-3099fafa93d1"
      },
      "source": [
        "aykiri_tf = df_table < (alt_sinir)\n",
        "df_table[aykiri_tf]"
      ],
      "execution_count": 152,
      "outputs": [
        {
          "output_type": "execute_result",
          "data": {
            "text/plain": [
              "1515     51.0\n",
              "3238     50.1\n",
              "3979     51.0\n",
              "4150     51.0\n",
              "5979     49.0\n",
              "7418     50.0\n",
              "8853     51.0\n",
              "11368    43.0\n",
              "22701    49.0\n",
              "25179    50.0\n",
              "26387    51.0\n",
              "33586    51.0\n",
              "35633    44.0\n",
              "45798    51.0\n",
              "46040    51.0\n",
              "47630    51.0\n",
              "Name: table, dtype: float64"
            ]
          },
          "metadata": {
            "tags": []
          },
          "execution_count": 152
        }
      ]
    },
    {
      "cell_type": "code",
      "metadata": {
        "id": "h3I_c6IabHy4",
        "colab_type": "code",
        "colab": {
          "base_uri": "https://localhost:8080/",
          "height": 34
        },
        "outputId": "02e928b9-d172-4b13-dc6e-4e6314c2d738"
      },
      "source": [
        "df_table.mean()"
      ],
      "execution_count": 153,
      "outputs": [
        {
          "output_type": "execute_result",
          "data": {
            "text/plain": [
              "57.45718390804603"
            ]
          },
          "metadata": {
            "tags": []
          },
          "execution_count": 153
        }
      ]
    },
    {
      "cell_type": "code",
      "metadata": {
        "id": "85zlZIXNbHy7",
        "colab_type": "code",
        "colab": {}
      },
      "source": [
        "df_table[aykiri_tf]  = df_table.mean() # kolay bir şekilde dftablenin aykiri_tf şartına\n",
        "# uyanları df_tablenin ortlamasına eşitledim."
      ],
      "execution_count": 0,
      "outputs": []
    },
    {
      "cell_type": "code",
      "metadata": {
        "id": "DDV31GthbHy9",
        "colab_type": "code",
        "colab": {
          "base_uri": "https://localhost:8080/",
          "height": 306
        },
        "outputId": "5f0529f7-a4b0-4a01-d814-245646d08730"
      },
      "source": [
        "df_table[aykiri_tf]\n"
      ],
      "execution_count": 155,
      "outputs": [
        {
          "output_type": "execute_result",
          "data": {
            "text/plain": [
              "1515     57.457184\n",
              "3238     57.457184\n",
              "3979     57.457184\n",
              "4150     57.457184\n",
              "5979     57.457184\n",
              "7418     57.457184\n",
              "8853     57.457184\n",
              "11368    57.457184\n",
              "22701    57.457184\n",
              "25179    57.457184\n",
              "26387    57.457184\n",
              "33586    57.457184\n",
              "35633    57.457184\n",
              "45798    57.457184\n",
              "46040    57.457184\n",
              "47630    57.457184\n",
              "Name: table, dtype: float64"
            ]
          },
          "metadata": {
            "tags": []
          },
          "execution_count": 155
        }
      ]
    },
    {
      "cell_type": "code",
      "metadata": {
        "id": "NcgmZqp0bHzA",
        "colab_type": "code",
        "colab": {
          "base_uri": "https://localhost:8080/",
          "height": 170
        },
        "outputId": "362e53d5-df11-41d5-915d-8719ac741a64"
      },
      "source": [
        "df_table = df[\"table\"].copy()\n",
        "df_table.describe()"
      ],
      "execution_count": 156,
      "outputs": [
        {
          "output_type": "execute_result",
          "data": {
            "text/plain": [
              "count    53940.000000\n",
              "mean        57.457184\n",
              "std          2.234491\n",
              "min         43.000000\n",
              "25%         56.000000\n",
              "50%         57.000000\n",
              "75%         59.000000\n",
              "max         95.000000\n",
              "Name: table, dtype: float64"
            ]
          },
          "metadata": {
            "tags": []
          },
          "execution_count": 156
        }
      ]
    },
    {
      "cell_type": "code",
      "metadata": {
        "id": "LkRVkieybHzD",
        "colab_type": "code",
        "colab": {}
      },
      "source": [
        "aykiri_tf = (df_table <(alt_sinir)) | (df_table > (ust_sinir) )"
      ],
      "execution_count": 0,
      "outputs": []
    },
    {
      "cell_type": "code",
      "metadata": {
        "id": "uRkyeRn5bHzF",
        "colab_type": "code",
        "colab": {}
      },
      "source": [
        "df_table[aykiri_tf] = df_table.mean()"
      ],
      "execution_count": 0,
      "outputs": []
    },
    {
      "cell_type": "code",
      "metadata": {
        "id": "IHEMqc8xbHzH",
        "colab_type": "code",
        "colab": {
          "base_uri": "https://localhost:8080/",
          "height": 119
        },
        "outputId": "e4222f27-c61b-479e-f052-cf0aba330f92"
      },
      "source": [
        "df_table[aykiri_tf].head()"
      ],
      "execution_count": 159,
      "outputs": [
        {
          "output_type": "execute_result",
          "data": {
            "text/plain": [
              "2      57.457184\n",
              "91     57.457184\n",
              "145    57.457184\n",
              "219    57.457184\n",
              "227    57.457184\n",
              "Name: table, dtype: float64"
            ]
          },
          "metadata": {
            "tags": []
          },
          "execution_count": 159
        }
      ]
    },
    {
      "cell_type": "code",
      "metadata": {
        "id": "kchdbqcNbHzK",
        "colab_type": "code",
        "colab": {
          "base_uri": "https://localhost:8080/",
          "height": 170
        },
        "outputId": "a157bea2-39a1-424e-8073-cb9701ed3a5c"
      },
      "source": [
        "df_table.describe()\n",
        "#aykırılardan kurtulunca standart sapma düştü"
      ],
      "execution_count": 160,
      "outputs": [
        {
          "output_type": "execute_result",
          "data": {
            "text/plain": [
              "count    53940.000000\n",
              "mean        57.374344\n",
              "std          2.062702\n",
              "min         51.600000\n",
              "25%         56.000000\n",
              "50%         57.000000\n",
              "75%         59.000000\n",
              "max         63.500000\n",
              "Name: table, dtype: float64"
            ]
          },
          "metadata": {
            "tags": []
          },
          "execution_count": 160
        }
      ]
    },
    {
      "cell_type": "code",
      "metadata": {
        "id": "24_Cj5VlbHzN",
        "colab_type": "code",
        "colab": {}
      },
      "source": [
        "# aykırı gözlemler için baskılama yöntemi\n",
        "# eğer aykrı gözlemlerin gerçekten aykırı gözlem olmayabileceği veya verisetinin \n",
        "# aykırılıklarını da göz önünde bulundurmak istediğimizde baskılam yöntemi kullanırız\n",
        "# baskılama yöntemi: alt sınırın altında kalan aykrı değerleri alt sınıra eşitleriz\n",
        "            #        üst sınırın üstünde kalan aykrı değerleri üst sınıra eşitleriz."
      ],
      "execution_count": 0,
      "outputs": []
    },
    {
      "cell_type": "code",
      "metadata": {
        "id": "tfSNmQaVbHzP",
        "colab_type": "code",
        "colab": {}
      },
      "source": [
        "aykiri_tf = (df_table <(alt_sinir)) "
      ],
      "execution_count": 0,
      "outputs": []
    },
    {
      "cell_type": "code",
      "metadata": {
        "id": "bD1X_h39bHzR",
        "colab_type": "code",
        "colab": {}
      },
      "source": [
        "aykiri_tf = (df_table <(alt_sinir)) \n",
        "df_table[aykiri_tf] = alt_sinir      "
      ],
      "execution_count": 0,
      "outputs": []
    },
    {
      "cell_type": "code",
      "metadata": {
        "id": "6sGxAXcKbHzT",
        "colab_type": "code",
        "colab": {
          "base_uri": "https://localhost:8080/",
          "height": 34
        },
        "outputId": "8fbb2302-3b89-4292-fd47-b6aa2a9ec6e7"
      },
      "source": [
        "df_table[aykiri_tf] "
      ],
      "execution_count": 170,
      "outputs": [
        {
          "output_type": "execute_result",
          "data": {
            "text/plain": [
              "Series([], Name: table, dtype: float64)"
            ]
          },
          "metadata": {
            "tags": []
          },
          "execution_count": 170
        }
      ]
    },
    {
      "cell_type": "code",
      "metadata": {
        "id": "db7pTNxmbHzV",
        "colab_type": "code",
        "colab": {}
      },
      "source": [
        "aykiri_ust_tf = df_table > (ust_sinir)"
      ],
      "execution_count": 0,
      "outputs": []
    },
    {
      "cell_type": "code",
      "metadata": {
        "id": "YjNk9koobHzY",
        "colab_type": "code",
        "colab": {
          "base_uri": "https://localhost:8080/",
          "height": 34
        },
        "outputId": "ee232e98-f65a-4d7e-a79d-e515ff2dab6d"
      },
      "source": [
        "df_table[aykiri_ust_tf] = ust_sinir\n",
        "df_table[aykiri_ust_tf] "
      ],
      "execution_count": 172,
      "outputs": [
        {
          "output_type": "execute_result",
          "data": {
            "text/plain": [
              "Series([], Name: table, dtype: float64)"
            ]
          },
          "metadata": {
            "tags": []
          },
          "execution_count": 172
        }
      ]
    },
    {
      "cell_type": "code",
      "metadata": {
        "id": "lIEgYAXTbHza",
        "colab_type": "code",
        "colab": {
          "base_uri": "https://localhost:8080/",
          "height": 34
        },
        "outputId": "d218bd81-b601-44e1-8b2a-a57febae2994"
      },
      "source": [
        "df_table[aykiri_ust_tf]\n",
        "#normaldealt sınır veya üst sınır döner hata var şu an salla"
      ],
      "execution_count": 173,
      "outputs": [
        {
          "output_type": "execute_result",
          "data": {
            "text/plain": [
              "Series([], Name: table, dtype: float64)"
            ]
          },
          "metadata": {
            "tags": []
          },
          "execution_count": 173
        }
      ]
    },
    {
      "cell_type": "markdown",
      "metadata": {
        "id": "GoeydB_pbHzd",
        "colab_type": "text"
      },
      "source": [
        "### Çok Değişkenli Aykırı Gözlem Analizi"
      ]
    },
    {
      "cell_type": "markdown",
      "metadata": {
        "id": "7s7gQFDabHzd",
        "colab_type": "text"
      },
      "source": [
        "#### Local Outlier Factor"
      ]
    },
    {
      "cell_type": "code",
      "metadata": {
        "id": "HYz8EiVIbHze",
        "colab_type": "code",
        "colab": {}
      },
      "source": [
        "# noktaların etrafındaki komşularının yoğunluğuna göre aykırı gözlem tespiti yapılır.\n",
        "# nokaların çevresindeki komşu sayısını belirlemek için değerlerine göre uzklık hesaplamaları yapılması gerekiyor\n",
        "# böylece noktanın etrafına çizilecek daire ile komşuluk sayısları belirlenmiş oluyor.\n",
        "# bunlar noktaların değerine göre belirleniyor.\n",
        "# bunun üzerinden yoğunluk hesaplanıyor.\n",
        "# yoğunluğu belirlemek için LOF skoru belirleniyor."
      ],
      "execution_count": 0,
      "outputs": []
    },
    {
      "cell_type": "code",
      "metadata": {
        "id": "YGFep8TybHzg",
        "colab_type": "code",
        "colab": {
          "base_uri": "https://localhost:8080/",
          "height": 85
        },
        "outputId": "aaca8d7b-590e-4bdd-fefe-f077b24a1568"
      },
      "source": [
        "# bunu denemek için bir veriseti oluşturalım.\n",
        "import numpy as np\n",
        "import matplotlib.pyplot as plt\n",
        "from sklearn.neighbors import LocalOutlierFactor\n",
        "\n",
        "np.random.seed(42) #random alacağımız verinin sürekli değişmemesi için\n",
        "X_inliers = np.random.normal(70, 3,(100, 2)) # ortalaması 70  varyansı 3 olarak dağılan 100 elemanlı 2 boyutlu random veri seti.\n",
        "# X_inliers yani aykrı olmayan X olarak  isimlendirdim.\n",
        "X_inliers = np.r_[X_inliers +10, X_inliers -10] # sunni bir şekilde görseleştirme işleminde lokalliğin nsaıl olacağına yönelik bir yapı oluşturduk.\n",
        "# r_  kullanmamızın sebebi index problemlerine takılmadan array oluşturmaktır.\n",
        "\n",
        "print(X_inliers.shape) # kaç gözlem ve  bunu gördük\n",
        "print(X_inliers[:3,:2]) # 3 satır ve 2 sütunu gözlemledik.\n"
      ],
      "execution_count": 174,
      "outputs": [
        {
          "output_type": "stream",
          "text": [
            "(200, 2)\n",
            "[[81.49014246 79.5852071 ]\n",
            " [81.94306561 84.56908957]\n",
            " [79.29753988 79.29758913]]\n"
          ],
          "name": "stdout"
        }
      ]
    },
    {
      "cell_type": "code",
      "metadata": {
        "id": "VcH9AKQobHzl",
        "colab_type": "code",
        "colab": {}
      },
      "source": [
        "X_outliers = np.random.uniform(low=15, high=130,size=(20,2)) #aykırılardan oluşacak X_outliers değişkenini oluşturduk. \n",
        "# tek düze(uniform) dağlımlı rast gele 15 ile 130 arasında 20 gözlemden ve 2 değişkenden bir veriseti oluşturduk."
      ],
      "execution_count": 0,
      "outputs": []
    },
    {
      "cell_type": "code",
      "metadata": {
        "id": "XcDm6EphbHzp",
        "colab_type": "code",
        "colab": {
          "base_uri": "https://localhost:8080/",
          "height": 68
        },
        "outputId": "31a51470-81fa-45d2-cb18-b62d63b7cac1"
      },
      "source": [
        "X = np.r_[X_inliers, X_outliers] # iki arrrayi birleştirdim\n",
        "X[0:3,:]"
      ],
      "execution_count": 176,
      "outputs": [
        {
          "output_type": "execute_result",
          "data": {
            "text/plain": [
              "array([[81.49014246, 79.5852071 ],\n",
              "       [81.94306561, 84.56908957],\n",
              "       [79.29753988, 79.29758913]])"
            ]
          },
          "metadata": {
            "tags": []
          },
          "execution_count": 176
        }
      ]
    },
    {
      "cell_type": "code",
      "metadata": {
        "id": "ATWQLZcDbHzs",
        "colab_type": "code",
        "colab": {}
      },
      "source": [
        "# lof skorlarının hesaplanması"
      ],
      "execution_count": 0,
      "outputs": []
    },
    {
      "cell_type": "code",
      "metadata": {
        "id": "xGcsFU8lbHzu",
        "colab_type": "code",
        "colab": {}
      },
      "source": [
        "skorlar = LocalOutlierFactor(n_neighbors = 20, contamination =0.1) # skorlar değişkenine lof fonksiyonunda komşu sayısını 20 olarak belirledim.\n",
        "# contamination argümanına 0.1 dedim."
      ],
      "execution_count": 0,
      "outputs": []
    },
    {
      "cell_type": "code",
      "metadata": {
        "id": "ME1s8AGVbHzx",
        "colab_type": "code",
        "colab": {
          "base_uri": "https://localhost:8080/",
          "height": 238
        },
        "outputId": "e82204c0-9119-472e-912e-ee571a63f2c1"
      },
      "source": [
        "skorlar.fit_predict(X) # instence ettiğim lof fonksiyonunu kullanarak fit_predict fonksiyonunu X üzerine uyguladık.\n",
        "#böylece skorlama işlemini yaptık."
      ],
      "execution_count": 178,
      "outputs": [
        {
          "output_type": "execute_result",
          "data": {
            "text/plain": [
              "array([ 1,  1,  1,  1,  1,  1,  1,  1,  1,  1,  1,  1,  1,  1,  1,  1,  1,\n",
              "        1,  1,  1,  1,  1,  1,  1,  1,  1,  1,  1,  1,  1,  1,  1,  1,  1,\n",
              "        1,  1,  1, -1,  1,  1,  1,  1,  1,  1,  1,  1,  1,  1,  1,  1,  1,\n",
              "        1,  1,  1,  1,  1,  1,  1,  1,  1,  1,  1,  1,  1,  1,  1,  1,  1,\n",
              "        1,  1,  1,  1,  1,  1,  1,  1,  1,  1,  1,  1,  1,  1,  1,  1,  1,\n",
              "        1,  1,  1,  1,  1,  1,  1,  1,  1,  1,  1,  1,  1,  1,  1,  1,  1,\n",
              "        1,  1,  1,  1,  1,  1,  1,  1,  1,  1,  1,  1,  1,  1,  1,  1,  1,\n",
              "        1,  1,  1,  1,  1,  1,  1,  1,  1,  1,  1,  1,  1,  1,  1,  1,  1,\n",
              "        1, -1,  1,  1,  1,  1,  1,  1,  1,  1,  1,  1,  1,  1,  1,  1,  1,\n",
              "        1,  1,  1,  1,  1,  1,  1,  1,  1,  1,  1,  1,  1,  1,  1,  1,  1,\n",
              "        1,  1,  1,  1,  1,  1,  1,  1,  1,  1,  1,  1,  1,  1,  1,  1,  1,\n",
              "        1,  1,  1,  1,  1,  1,  1,  1,  1,  1,  1,  1,  1, -1, -1, -1, -1,\n",
              "       -1, -1, -1, -1, -1, -1, -1, -1, -1, -1, -1, -1, -1, -1, -1, -1])"
            ]
          },
          "metadata": {
            "tags": []
          },
          "execution_count": 178
        }
      ]
    },
    {
      "cell_type": "code",
      "metadata": {
        "id": "oe-h74M_bHz1",
        "colab_type": "code",
        "colab": {}
      },
      "source": [
        "X_score = skorlar.negative_outlier_factor_ #bütün gözlemleri negatif olarak skorldık.\n",
        "# bunun sebebi radius hesaplarken negatiflik arttıkça bunun radiusa etkisinin o kadar pozitif olmasını sağlayacak bir formül yazmamız."
      ],
      "execution_count": 0,
      "outputs": []
    },
    {
      "cell_type": "code",
      "metadata": {
        "id": "wXKxiLeubHz9",
        "colab_type": "code",
        "colab": {
          "base_uri": "https://localhost:8080/",
          "height": 952
        },
        "outputId": "d29d2061-c7c8-450f-ae02-02837145cfbc"
      },
      "source": [
        "X_score"
      ],
      "execution_count": 180,
      "outputs": [
        {
          "output_type": "execute_result",
          "data": {
            "text/plain": [
              "array([ -0.99920793,  -1.14732911,  -0.97212675,  -1.32719465,\n",
              "        -0.96975281,  -0.96802782,  -1.1805622 ,  -1.19797585,\n",
              "        -1.01561029,  -1.15267042,  -1.21993084,  -1.05831363,\n",
              "        -0.97110275,  -1.02663395,  -0.96154064,  -1.32250926,\n",
              "        -1.01699286,  -1.10234974,  -1.19346895,  -1.05776726,\n",
              "        -1.04856181,  -0.96442079,  -1.15375777,  -1.04363184,\n",
              "        -1.13388154,  -0.97715087,  -0.98044628,  -1.13725117,\n",
              "        -0.98956357,  -1.02785428,  -0.95728791,  -1.16047442,\n",
              "        -1.13796262,  -0.99593571,  -0.99185635,  -1.13931637,\n",
              "        -1.14278418,  -1.91696252,  -0.95681998,  -1.19901531,\n",
              "        -0.94185764,  -1.25760245,  -1.01278495,  -1.11585158,\n",
              "        -0.98451094,  -0.99655791,  -0.97848957,  -1.1047896 ,\n",
              "        -0.99211614,  -0.96275604,  -1.09599368,  -0.97642952,\n",
              "        -0.9472918 ,  -1.43796858,  -0.963528  ,  -1.28400084,\n",
              "        -1.46986045,  -0.94456349,  -1.04606649,  -1.16724676,\n",
              "        -1.0681155 ,  -1.29733998,  -1.33698889,  -1.06447487,\n",
              "        -0.96507061,  -1.0994214 ,  -1.02921001,  -1.27971369,\n",
              "        -0.97400916,  -1.10260813,  -1.1084975 ,  -1.13304894,\n",
              "        -0.98327563,  -1.2515635 ,  -1.00932867,  -0.98433097,\n",
              "        -0.9811025 ,  -0.99020516,  -1.45968241,  -1.074494  ,\n",
              "        -1.06048345,  -1.21649105,  -1.11002098,  -1.25585303,\n",
              "        -0.97029882,  -1.08183888,  -0.94565067,  -0.99989536,\n",
              "        -1.13139413,  -1.63862847,  -1.04597462,  -1.0312969 ,\n",
              "        -0.95067964,  -0.99616246,  -1.15334842,  -0.9949659 ,\n",
              "        -1.05218301,  -0.96807723,  -1.01276328,  -1.04780755,\n",
              "        -0.99920793,  -1.15101418,  -0.97212675,  -1.32659542,\n",
              "        -0.96943838,  -0.96802782,  -1.1805622 ,  -1.19791797,\n",
              "        -1.01529652,  -1.15267042,  -1.21993084,  -1.05831363,\n",
              "        -0.97110275,  -1.02631261,  -0.96154064,  -1.33936984,\n",
              "        -1.01699286,  -1.10234974,  -1.19346895,  -1.05737435,\n",
              "        -1.04856181,  -0.96442079,  -1.15370196,  -1.04909785,\n",
              "        -1.13388154,  -0.97715087,  -0.97998371,  -1.13640206,\n",
              "        -0.98956357,  -1.02655895,  -0.95728791,  -1.16047442,\n",
              "        -1.13950345,  -0.99496821,  -0.99185635,  -1.14469959,\n",
              "        -1.15329396,  -1.93321727,  -0.95681998,  -1.19901531,\n",
              "        -0.94185764,  -1.25760245,  -1.01278495,  -1.11585158,\n",
              "        -0.9840512 ,  -0.99559016,  -0.97848957,  -1.1047896 ,\n",
              "        -0.99211614,  -0.96275604,  -1.09594137,  -0.97642952,\n",
              "        -0.9472918 ,  -1.43783273,  -0.963528  ,  -1.28600243,\n",
              "        -1.48832214,  -0.94456349,  -1.04606649,  -1.16681127,\n",
              "        -1.0681155 ,  -1.29733998,  -1.37714337,  -1.06447487,\n",
              "        -0.96507061,  -1.09900693,  -1.02870987,  -1.27566788,\n",
              "        -0.97400916,  -1.10260813,  -1.11146753,  -1.13262118,\n",
              "        -0.98258158,  -1.2515635 ,  -1.00932867,  -0.98433097,\n",
              "        -0.98095197,  -0.99020516,  -1.45931142,  -1.079111  ,\n",
              "        -1.06523549,  -1.21649105,  -1.10992263,  -1.26309502,\n",
              "        -0.97029882,  -1.08183888,  -0.94565067,  -0.99909148,\n",
              "        -1.14191514,  -1.69263105,  -1.04597462,  -1.03079579,\n",
              "        -0.95042247,  -0.99616246,  -1.15334842,  -0.99423553,\n",
              "        -1.05218301,  -0.96807723,  -1.01245463,  -1.04780755,\n",
              "        -7.85656277,  -4.83006907,  -2.71807503,  -7.17604703,\n",
              "        -9.26256027,  -2.05933547,  -6.24173341,  -5.91706739,\n",
              "       -10.07364152,  -8.51275904, -10.75276599,  -2.68347667,\n",
              "        -6.41472487, -15.3785652 ,  -9.06812573,  -9.34229978,\n",
              "       -10.24101046,  -9.64406264, -11.57669644,  -1.86285682])"
            ]
          },
          "metadata": {
            "tags": []
          },
          "execution_count": 180
        }
      ]
    },
    {
      "cell_type": "code",
      "metadata": {
        "id": "GhMPG0pKbHz-",
        "colab_type": "code",
        "colab": {
          "base_uri": "https://localhost:8080/",
          "height": 34
        },
        "outputId": "0f606d6d-f173-49c9-daad-3d054c70c24b"
      },
      "source": [
        "X_score.mean()"
      ],
      "execution_count": 181,
      "outputs": [
        {
          "output_type": "execute_result",
          "data": {
            "text/plain": [
              "-1.6850227435158005"
            ]
          },
          "metadata": {
            "tags": []
          },
          "execution_count": 181
        }
      ]
    },
    {
      "cell_type": "code",
      "metadata": {
        "id": "ETfbgOBobH0A",
        "colab_type": "code",
        "colab": {
          "base_uri": "https://localhost:8080/",
          "height": 34
        },
        "outputId": "0a83adb6-3402-46e4-ae88-32902affe234"
      },
      "source": [
        "X_score.std()"
      ],
      "execution_count": 182,
      "outputs": [
        {
          "output_type": "execute_result",
          "data": {
            "text/plain": [
              "2.140119050235338"
            ]
          },
          "metadata": {
            "tags": []
          },
          "execution_count": 182
        }
      ]
    },
    {
      "cell_type": "code",
      "metadata": {
        "id": "LRBqwewDbH0C",
        "colab_type": "code",
        "colab": {
          "base_uri": "https://localhost:8080/",
          "height": 68
        },
        "outputId": "6325cdf8-5cce-49b0-ef9e-64a77dfc11c1"
      },
      "source": [
        "np.sort(X_score)[0:10]"
      ],
      "execution_count": 183,
      "outputs": [
        {
          "output_type": "execute_result",
          "data": {
            "text/plain": [
              "array([-15.3785652 , -11.57669644, -10.75276599, -10.24101046,\n",
              "       -10.07364152,  -9.64406264,  -9.34229978,  -9.26256027,\n",
              "        -9.06812573,  -8.51275904])"
            ]
          },
          "metadata": {
            "tags": []
          },
          "execution_count": 183
        }
      ]
    },
    {
      "cell_type": "code",
      "metadata": {
        "id": "mXFqaHxhbH0E",
        "colab_type": "code",
        "colab": {
          "base_uri": "https://localhost:8080/",
          "height": 265
        },
        "outputId": "cb871b86-97dd-41e2-d002-79d2f86bc016"
      },
      "source": [
        "plt.hist(X_score, bins = \"auto\",density = True) # skorları görselleştirdik\n",
        "plt.show()"
      ],
      "execution_count": 184,
      "outputs": [
        {
          "output_type": "display_data",
          "data": {
            "image/png": "[encoded data removed]",
            "text/plain": [
              "<Figure size 432x288 with 1 Axes>"
            ]
          },
          "metadata": {
            "tags": [],
            "needs_background": "light"
          }
        }
      ]
    },
    {
      "cell_type": "code",
      "metadata": {
        "id": "TIAaCPLfbH0G",
        "colab_type": "code",
        "colab": {
          "base_uri": "https://localhost:8080/",
          "height": 282
        },
        "outputId": "586fe82c-9563-48e3-ba60-07897b0bcf09"
      },
      "source": [
        "plt.scatter(X[:,0], X[:,1], color = \"k\", s= 3, label =\"Gözlem Birimleri\")\n",
        "# noktaları görselleştirdik"
      ],
      "execution_count": 185,
      "outputs": [
        {
          "output_type": "execute_result",
          "data": {
            "text/plain": [
              "<matplotlib.collections.PathCollection at 0x7f0ff8381358>"
            ]
          },
          "metadata": {
            "tags": []
          },
          "execution_count": 185
        },
        {
          "output_type": "display_data",
          "data": {
            "image/png": "[encoded data removed]",
            "text/plain": [
              "<Figure size 432x288 with 1 Axes>"
            ]
          },
          "metadata": {
            "tags": [],
            "needs_background": "light"
          }
        }
      ]
    },
    {
      "cell_type": "code",
      "metadata": {
        "id": "2zgkndpBbH0K",
        "colab_type": "code",
        "colab": {}
      },
      "source": [
        "radius = (X_score.max() - X_score) / (X_score.max()-X_score.min())\n",
        "# yukarda X_score negatif aldık. şimdi burdaki formülün payında X_score önüne -  koyduk\n",
        "# ve radius u yani halkanın boyunu hesapladık. X _score ne kadar negatifse radiusa etkisi o kadar pozitif oluyor.\n",
        "# böylece negatifliği az olan aykırı gözlem olmazken çok negatif olan daha aykırı gözlem oluyor."
      ],
      "execution_count": 0,
      "outputs": []
    },
    {
      "cell_type": "code",
      "metadata": {
        "id": "zJgdOrHCbH0Q",
        "colab_type": "code",
        "colab": {
          "base_uri": "https://localhost:8080/",
          "height": 282
        },
        "outputId": "28777b08-b15f-4947-8b20-22aa654a9db9"
      },
      "source": [
        "plt.scatter(X[:,0],X[:,1],s = 1000*radius, edgecolors = \"r\",\n",
        "           facecolors=\"none\",label =\"LOF skorları\")\n",
        "# s ifdesi halkaların büüklüğünü veriyor radius ile oranlarını hesaplamıitık 1000 ile görüntüyü büyüttük.\n",
        "# legend ayarlarıyla isim nokte vb. şeyleri ayarlayabiliriz."
      ],
      "execution_count": 188,
      "outputs": [
        {
          "output_type": "execute_result",
          "data": {
            "text/plain": [
              "<matplotlib.collections.PathCollection at 0x7f0ff8033d68>"
            ]
          },
          "metadata": {
            "tags": []
          },
          "execution_count": 188
        },
        {
          "output_type": "display_data",
          "data": {
            "image/png": "[encoded data removed]",
            "text/plain": [
              "<Figure size 432x288 with 1 Axes>"
            ]
          },
          "metadata": {
            "tags": [],
            "needs_background": "light"
          }
        }
      ]
    },
    {
      "cell_type": "code",
      "metadata": {
        "id": "e_UYqFPabH0X",
        "colab_type": "code",
        "colab": {}
      },
      "source": [
        "# çok değişkenli verisetlerimiz olduğunda görselleştirmeyip direk lof skorlarını hesaplayıp direk \n",
        "# işlemlerimizi skorlar üzerinden gerçekleştiririz.\n",
        "# eğer çok değişkenleri verisetini görsellleştirmek istersek temel bileşen analiziyle\n",
        "# iki değişkene indirgeyip sonra bunu yaparsak yapabiliriz"
      ],
      "execution_count": 0,
      "outputs": []
    },
    {
      "cell_type": "code",
      "metadata": {
        "id": "2Cgl5zrXbH0b",
        "colab_type": "code",
        "colab": {}
      },
      "source": [
        "# Çok Değişkenli Aykırı Gözlemlerin Yakalanması"
      ],
      "execution_count": 0,
      "outputs": []
    },
    {
      "cell_type": "code",
      "metadata": {
        "id": "RnFxwkpibH0e",
        "colab_type": "code",
        "colab": {
          "base_uri": "https://localhost:8080/",
          "height": 68
        },
        "outputId": "7bc1e1b3-2928-4962-a849-fffd68c264ca"
      },
      "source": [
        "X[0:3]"
      ],
      "execution_count": 191,
      "outputs": [
        {
          "output_type": "execute_result",
          "data": {
            "text/plain": [
              "array([[81.49014246, 79.5852071 ],\n",
              "       [81.94306561, 84.56908957],\n",
              "       [79.29753988, 79.29758913]])"
            ]
          },
          "metadata": {
            "tags": []
          },
          "execution_count": 191
        }
      ]
    },
    {
      "cell_type": "code",
      "metadata": {
        "id": "LhH53F87bH0g",
        "colab_type": "code",
        "colab": {
          "base_uri": "https://localhost:8080/",
          "height": 68
        },
        "outputId": "b65c73d6-7350-4429-8337-292f134dcd1e"
      },
      "source": [
        "np.sort(X_score)[0:9] # 0 dan 9 a kadar index olrak lof skorlrını sıraladım.\n"
      ],
      "execution_count": 192,
      "outputs": [
        {
          "output_type": "execute_result",
          "data": {
            "text/plain": [
              "array([-15.3785652 , -11.57669644, -10.75276599, -10.24101046,\n",
              "       -10.07364152,  -9.64406264,  -9.34229978,  -9.26256027,\n",
              "        -9.06812573])"
            ]
          },
          "metadata": {
            "tags": []
          },
          "execution_count": 192
        }
      ]
    },
    {
      "cell_type": "code",
      "metadata": {
        "id": "AeYKs8-4bH0i",
        "colab_type": "code",
        "colab": {}
      },
      "source": [
        "esik_deger = np.sort(X_score)[9] # 10. iindexi kendimiz  eşik değer olarak belirlediğimizi düşünelim"
      ],
      "execution_count": 0,
      "outputs": []
    },
    {
      "cell_type": "code",
      "metadata": {
        "id": "uoyNUau_bH0k",
        "colab_type": "code",
        "colab": {
          "base_uri": "https://localhost:8080/",
          "height": 68
        },
        "outputId": "2a2127a2-6375-444f-ba07-66254c76e386"
      },
      "source": [
        "(X_score> esik_deger)[200:220] # x score ün bazı elemanlarının eşik değerden büyük olup olmamasını sorguladık"
      ],
      "execution_count": 194,
      "outputs": [
        {
          "output_type": "execute_result",
          "data": {
            "text/plain": [
              "array([ True,  True,  True,  True, False,  True,  True,  True, False,\n",
              "       False, False,  True,  True, False, False, False, False, False,\n",
              "       False,  True])"
            ]
          },
          "metadata": {
            "tags": []
          },
          "execution_count": 194
        }
      ]
    },
    {
      "cell_type": "code",
      "metadata": {
        "id": "24fL2ILubH0n",
        "colab_type": "code",
        "colab": {}
      },
      "source": [
        "tf_vektor=(X_score> esik_deger) # yaptığım sorguyu tf_vector değişkenine atadım. bi önemi yok gösterdim. sadece"
      ],
      "execution_count": 0,
      "outputs": []
    },
    {
      "cell_type": "code",
      "metadata": {
        "id": "pYy-k3mubH0r",
        "colab_type": "code",
        "colab": {
          "base_uri": "https://localhost:8080/",
          "height": 1000
        },
        "outputId": "d53d4dc4-bdf4-4ce6-9709-5ed6bf486dcf"
      },
      "source": [
        "df= X.copy()\n",
        "df = X[X_score>esik_deger]\n",
        "#esik değerden büyük olanlar aykırı olmayanlardır çünkü eşik değer skordan olduğu için zaten negatifitir.\n",
        "# negatifliği az olanlar skoru küçük olanlar ve haliyle aykırı olmayanlar.\n",
        "# aykırılardan arınmış bir  verinin değerleri\n",
        "df"
      ],
      "execution_count": 196,
      "outputs": [
        {
          "output_type": "execute_result",
          "data": {
            "text/plain": [
              "array([[ 81.49014246,  79.5852071 ],\n",
              "       [ 81.94306561,  84.56908957],\n",
              "       [ 79.29753988,  79.29758913],\n",
              "       [ 84.73763845,  82.30230419],\n",
              "       [ 78.59157684,  81.62768013],\n",
              "       [ 78.60974692,  78.60281074],\n",
              "       [ 80.72588681,  74.26015927],\n",
              "       [ 74.8252465 ,  78.31313741],\n",
              "       [ 76.96150664,  80.942742  ],\n",
              "       [ 77.27592777,  75.7630889 ],\n",
              "       [ 84.39694631,  79.3226711 ],\n",
              "       [ 80.20258461,  75.72575544],\n",
              "       [ 78.36685183,  80.33276777],\n",
              "       [ 76.54701927,  81.12709406],\n",
              "       [ 78.19808393,  79.12491875],\n",
              "       [ 78.19488016,  85.55683455],\n",
              "       [ 79.95950833,  76.82686721],\n",
              "       [ 82.46763474,  76.33746905],\n",
              "       [ 80.62659079,  74.12098963],\n",
              "       [ 76.01544185,  80.59058371],\n",
              "       [ 82.21539974,  80.51410484],\n",
              "       [ 79.65305515,  79.09668891],\n",
              "       [ 75.56443403,  77.84046737],\n",
              "       [ 78.61808369,  83.17136668],\n",
              "       [ 81.03085487,  74.71087953],\n",
              "       [ 80.97225191,  78.84475316],\n",
              "       [ 77.969234  ,  81.83502887],\n",
              "       [ 83.09299857,  82.79384036],\n",
              "       [ 77.48234743,  79.07236287],\n",
              "       [ 80.99379029,  82.92663538],\n",
              "       [ 78.56247729,  79.44302307],\n",
              "       [ 76.68099508,  76.41138013],\n",
              "       [ 82.43757747,  84.06872009],\n",
              "       [ 79.78396964,  83.01059869],\n",
              "       [ 81.08490808,  78.06464074],\n",
              "       [ 81.08418682,  84.6141097 ],\n",
              "       [ 79.89252188,  84.69393097],\n",
              "       [ 72.14076469,  82.46570751],\n",
              "       [ 80.2611412 ,  79.10297795],\n",
              "       [ 80.27528233,  74.03729326],\n",
              "       [ 79.34098434,  81.07133771],\n",
              "       [ 84.43368213,  78.44518935],\n",
              "       [ 77.57451919,  78.49472887],\n",
              "       [ 82.74620635,  80.98625333],\n",
              "       [ 78.41071939,  81.5398023 ],\n",
              "       [ 80.29123265,  82.90593497],\n",
              "       [ 77.89384072,  79.01701356],\n",
              "       [ 78.82367554,  75.60945516],\n",
              "       [ 80.88836083,  80.78316582],\n",
              "       [ 80.01534037,  79.2962386 ],\n",
              "       [ 75.75388777,  78.73806403],\n",
              "       [ 78.97185645,  77.59316819],\n",
              "       [ 79.51614287,  81.21215257],\n",
              "       [ 85.6585577 ,  80.52373344],\n",
              "       [ 80.77265117,  79.77666225],\n",
              "       [ 74.24368635,  79.92045837],\n",
              "       [ 80.18069063,  87.38972634],\n",
              "       [ 79.42291711,  80.90464203],\n",
              "       [ 79.89586469,  76.49396589],\n",
              "       [ 83.42846844,  82.2557991 ],\n",
              "       [ 82.37309584,  77.27183764],\n",
              "       [ 84.20838293,  75.79444681],\n",
              "       [ 81.76057128,  86.57136688],\n",
              "       [ 77.02839102,  78.30110681],\n",
              "       [ 80.2989541 ,  78.48957304],\n",
              "       [ 75.34800971,  80.20568892],\n",
              "       [ 76.81308886,  81.42077729],\n",
              "       [ 77.2417273 ,  84.64980322],\n",
              "       [ 77.65024012,  79.03381545],\n",
              "       [ 82.44055165,  76.30740705],\n",
              "       [ 80.6823798 ,  83.92142826],\n",
              "       [ 75.1775503 ,  80.55390158],\n",
              "       [ 80.77964838,  82.34546862],\n",
              "       [ 76.28914787,  76.03863016],\n",
              "       [ 81.5658247 ,  80.89095402],\n",
              "       [ 80.75147855,  81.03934463],\n",
              "       [ 77.95992584,  80.69676109],\n",
              "       [ 80.87921742,  77.85694575],\n",
              "       [ 85.59732353,  81.42149876],\n",
              "       [ 76.42608951,  81.96966083],\n",
              "       [ 77.07595499,  82.36125381],\n",
              "       [ 83.47578674,  77.53795304],\n",
              "       [ 82.89012839,  81.23834278],\n",
              "       [ 82.46618048,  85.69037895],\n",
              "       [ 79.26383565,  77.73879151],\n",
              "       [ 77.33145671,  77.55256915],\n",
              "       [ 79.76869487,  81.02345592],\n",
              "       [ 80.8300724 ,  82.48154975],\n",
              "       [ 80.03900568,  84.36060223],\n",
              "       [ 79.2060295 ,  88.1605075 ],\n",
              "       [ 81.87700204,  77.42852733],\n",
              "       [ 76.78732251,  81.44741725],\n",
              "       [ 79.32961164,  82.14200148],\n",
              "       [ 81.41971287,  79.78151326],\n",
              "       [ 77.45961885,  75.45545833],\n",
              "       [ 78.66045514,  82.56919638],\n",
              "       [ 80.64228123,  76.26278366],\n",
              "       [ 80.51954278,  81.15595214],\n",
              "       [ 77.34842769,  80.46117532],\n",
              "       [ 80.17462616,  76.57108911],\n",
              "       [ 61.49014246,  59.5852071 ],\n",
              "       [ 61.94306561,  64.56908957],\n",
              "       [ 59.29753988,  59.29758913],\n",
              "       [ 64.73763845,  62.30230419],\n",
              "       [ 58.59157684,  61.62768013],\n",
              "       [ 58.60974692,  58.60281074],\n",
              "       [ 60.72588681,  54.26015927],\n",
              "       [ 54.8252465 ,  58.31313741],\n",
              "       [ 56.96150664,  60.942742  ],\n",
              "       [ 57.27592777,  55.7630889 ],\n",
              "       [ 64.39694631,  59.3226711 ],\n",
              "       [ 60.20258461,  55.72575544],\n",
              "       [ 58.36685183,  60.33276777],\n",
              "       [ 56.54701927,  61.12709406],\n",
              "       [ 58.19808393,  59.12491875],\n",
              "       [ 58.19488016,  65.55683455],\n",
              "       [ 59.95950833,  56.82686721],\n",
              "       [ 62.46763474,  56.33746905],\n",
              "       [ 60.62659079,  54.12098963],\n",
              "       [ 56.01544185,  60.59058371],\n",
              "       [ 62.21539974,  60.51410484],\n",
              "       [ 59.65305515,  59.09668891],\n",
              "       [ 55.56443403,  57.84046737],\n",
              "       [ 58.61808369,  63.17136668],\n",
              "       [ 61.03085487,  54.71087953],\n",
              "       [ 60.97225191,  58.84475316],\n",
              "       [ 57.969234  ,  61.83502887],\n",
              "       [ 63.09299857,  62.79384036],\n",
              "       [ 57.48234743,  59.07236287],\n",
              "       [ 60.99379029,  62.92663538],\n",
              "       [ 58.56247729,  59.44302307],\n",
              "       [ 56.68099508,  56.41138013],\n",
              "       [ 62.43757747,  64.06872009],\n",
              "       [ 59.78396964,  63.01059869],\n",
              "       [ 61.08490808,  58.06464074],\n",
              "       [ 61.08418682,  64.6141097 ],\n",
              "       [ 59.89252188,  64.69393097],\n",
              "       [ 52.14076469,  62.46570751],\n",
              "       [ 60.2611412 ,  59.10297795],\n",
              "       [ 60.27528233,  54.03729326],\n",
              "       [ 59.34098434,  61.07133771],\n",
              "       [ 64.43368213,  58.44518935],\n",
              "       [ 57.57451919,  58.49472887],\n",
              "       [ 62.74620635,  60.98625333],\n",
              "       [ 58.41071939,  61.5398023 ],\n",
              "       [ 60.29123265,  62.90593497],\n",
              "       [ 57.89384072,  59.01701356],\n",
              "       [ 58.82367554,  55.60945516],\n",
              "       [ 60.88836083,  60.78316582],\n",
              "       [ 60.01534037,  59.2962386 ],\n",
              "       [ 55.75388777,  58.73806403],\n",
              "       [ 58.97185645,  57.59316819],\n",
              "       [ 59.51614287,  61.21215257],\n",
              "       [ 65.6585577 ,  60.52373344],\n",
              "       [ 60.77265117,  59.77666225],\n",
              "       [ 54.24368635,  59.92045837],\n",
              "       [ 60.18069063,  67.38972634],\n",
              "       [ 59.42291711,  60.90464203],\n",
              "       [ 59.89586469,  56.49396589],\n",
              "       [ 63.42846844,  62.2557991 ],\n",
              "       [ 62.37309584,  57.27183764],\n",
              "       [ 64.20838293,  55.79444681],\n",
              "       [ 61.76057128,  66.57136688],\n",
              "       [ 57.02839102,  58.30110681],\n",
              "       [ 60.2989541 ,  58.48957304],\n",
              "       [ 55.34800971,  60.20568892],\n",
              "       [ 56.81308886,  61.42077729],\n",
              "       [ 57.2417273 ,  64.64980322],\n",
              "       [ 57.65024012,  59.03381545],\n",
              "       [ 62.44055165,  56.30740705],\n",
              "       [ 60.6823798 ,  63.92142826],\n",
              "       [ 55.1775503 ,  60.55390158],\n",
              "       [ 60.77964838,  62.34546862],\n",
              "       [ 56.28914787,  56.03863016],\n",
              "       [ 61.5658247 ,  60.89095402],\n",
              "       [ 60.75147855,  61.03934463],\n",
              "       [ 57.95992584,  60.69676109],\n",
              "       [ 60.87921742,  57.85694575],\n",
              "       [ 65.59732353,  61.42149876],\n",
              "       [ 56.42608951,  61.96966083],\n",
              "       [ 57.07595499,  62.36125381],\n",
              "       [ 63.47578674,  57.53795304],\n",
              "       [ 62.89012839,  61.23834278],\n",
              "       [ 62.46618048,  65.69037895],\n",
              "       [ 59.26383565,  57.73879151],\n",
              "       [ 57.33145671,  57.55256915],\n",
              "       [ 59.76869487,  61.02345592],\n",
              "       [ 60.8300724 ,  62.48154975],\n",
              "       [ 60.03900568,  64.36060223],\n",
              "       [ 59.2060295 ,  68.1605075 ],\n",
              "       [ 61.87700204,  57.42852733],\n",
              "       [ 56.78732251,  61.44741725],\n",
              "       [ 59.32961164,  62.14200148],\n",
              "       [ 61.41971287,  59.78151326],\n",
              "       [ 57.45961885,  55.45545833],\n",
              "       [ 58.66045514,  62.56919638],\n",
              "       [ 60.64228123,  56.26278366],\n",
              "       [ 60.51954278,  61.15595214],\n",
              "       [ 57.34842769,  60.46117532],\n",
              "       [ 60.17462616,  56.57108911],\n",
              "       [115.89790327, 100.18839104],\n",
              "       [ 95.15681021,  95.78566966],\n",
              "       [ 56.34148239,  48.76306209],\n",
              "       [108.07653288, 108.16304039],\n",
              "       [ 73.80437587,  72.67437389],\n",
              "       [106.80394558,  89.74585204],\n",
              "       [ 95.72619088, 106.51615699],\n",
              "       [ 68.54377209,  77.40413299],\n",
              "       [ 47.95224399,  82.94582497],\n",
              "       [ 77.17303899,  88.30443867]])"
            ]
          },
          "metadata": {
            "tags": []
          },
          "execution_count": 196
        }
      ]
    },
    {
      "cell_type": "code",
      "metadata": {
        "id": "qGuJ458BbH0t",
        "colab_type": "code",
        "colab": {
          "base_uri": "https://localhost:8080/",
          "height": 170
        },
        "outputId": "031db2af-1c7b-4749-d0c7-4057f63ae1a9"
      },
      "source": [
        "X[X_score<esik_deger] # aykırı gözlemlere eriştik"
      ],
      "execution_count": 197,
      "outputs": [
        {
          "output_type": "execute_result",
          "data": {
            "text/plain": [
              "array([[114.71331664, 120.02266354],\n",
              "       [117.35061431,  53.86944304],\n",
              "       [ 81.50221621,  19.13336149],\n",
              "       [ 18.50752874,  19.29504171],\n",
              "       [109.59906448,  56.42192376],\n",
              "       [ 29.61195895,  75.05797491],\n",
              "       [103.54925861,  39.81941816],\n",
              "       [ 86.63240472,  24.81495847],\n",
              "       [ 20.94339793,  76.10578263]])"
            ]
          },
          "metadata": {
            "tags": []
          },
          "execution_count": 197
        }
      ]
    },
    {
      "cell_type": "markdown",
      "metadata": {
        "id": "KybVuGOqbH0v",
        "colab_type": "text"
      },
      "source": [
        "## Eksik Veri -Hızlı Çözüm"
      ]
    },
    {
      "cell_type": "code",
      "metadata": {
        "id": "JBTQShCpbH0w",
        "colab_type": "code",
        "colab": {
          "base_uri": "https://localhost:8080/",
          "height": 328
        },
        "outputId": "c6e53e23-871d-4e15-c9be-77bcbb1f21fe"
      },
      "source": [
        "import pandas as pd\n",
        "import numpy as np\n",
        "\n",
        "V1 = np.array([1,3,6,np.NaN,7,1,np.NaN,9,15])\n",
        "V2 = np.array([7,np.NaN,5,8,12,np.NaN,2,3,9])\n",
        "V3 = np.array([np.NaN,12,5,6,14,7,np.NaN,2,31])\n",
        "\n",
        "df = pd.DataFrame({\"V1\": V1,\n",
        "                  \"V2\":V2,\n",
        "                  \"V3\":V3})\n",
        "df"
      ],
      "execution_count": 198,
      "outputs": [
        {
          "output_type": "execute_result",
          "data": {
            "text/html": [
              "<div>\n",
              "<style scoped>\n",
              "    .dataframe tbody tr th:only-of-type {\n",
              "        vertical-align: middle;\n",
              "    }\n",
              "\n",
              "    .dataframe tbody tr th {\n",
              "        vertical-align: top;\n",
              "    }\n",
              "\n",
              "    .dataframe thead th {\n",
              "        text-align: right;\n",
              "    }\n",
              "</style>\n",
              "<table border=\"1\" class=\"dataframe\">\n",
              "  <thead>\n",
              "    <tr style=\"text-align: right;\">\n",
              "      <th></th>\n",
              "      <th>V1</th>\n",
              "      <th>V2</th>\n",
              "      <th>V3</th>\n",
              "    </tr>\n",
              "  </thead>\n",
              "  <tbody>\n",
              "    <tr>\n",
              "      <th>0</th>\n",
              "      <td>1.0</td>\n",
              "      <td>7.0</td>\n",
              "      <td>NaN</td>\n",
              "    </tr>\n",
              "    <tr>\n",
              "      <th>1</th>\n",
              "      <td>3.0</td>\n",
              "      <td>NaN</td>\n",
              "      <td>12.0</td>\n",
              "    </tr>\n",
              "    <tr>\n",
              "      <th>2</th>\n",
              "      <td>6.0</td>\n",
              "      <td>5.0</td>\n",
              "      <td>5.0</td>\n",
              "    </tr>\n",
              "    <tr>\n",
              "      <th>3</th>\n",
              "      <td>NaN</td>\n",
              "      <td>8.0</td>\n",
              "      <td>6.0</td>\n",
              "    </tr>\n",
              "    <tr>\n",
              "      <th>4</th>\n",
              "      <td>7.0</td>\n",
              "      <td>12.0</td>\n",
              "      <td>14.0</td>\n",
              "    </tr>\n",
              "    <tr>\n",
              "      <th>5</th>\n",
              "      <td>1.0</td>\n",
              "      <td>NaN</td>\n",
              "      <td>7.0</td>\n",
              "    </tr>\n",
              "    <tr>\n",
              "      <th>6</th>\n",
              "      <td>NaN</td>\n",
              "      <td>2.0</td>\n",
              "      <td>NaN</td>\n",
              "    </tr>\n",
              "    <tr>\n",
              "      <th>7</th>\n",
              "      <td>9.0</td>\n",
              "      <td>3.0</td>\n",
              "      <td>2.0</td>\n",
              "    </tr>\n",
              "    <tr>\n",
              "      <th>8</th>\n",
              "      <td>15.0</td>\n",
              "      <td>9.0</td>\n",
              "      <td>31.0</td>\n",
              "    </tr>\n",
              "  </tbody>\n",
              "</table>\n",
              "</div>"
            ],
            "text/plain": [
              "     V1    V2    V3\n",
              "0   1.0   7.0   NaN\n",
              "1   3.0   NaN  12.0\n",
              "2   6.0   5.0   5.0\n",
              "3   NaN   8.0   6.0\n",
              "4   7.0  12.0  14.0\n",
              "5   1.0   NaN   7.0\n",
              "6   NaN   2.0   NaN\n",
              "7   9.0   3.0   2.0\n",
              "8  15.0   9.0  31.0"
            ]
          },
          "metadata": {
            "tags": []
          },
          "execution_count": 198
        }
      ]
    },
    {
      "cell_type": "code",
      "metadata": {
        "id": "QBB8Ak3MbH0x",
        "colab_type": "code",
        "colab": {
          "base_uri": "https://localhost:8080/",
          "height": 85
        },
        "outputId": "03f0ecff-4668-4559-a26b-5a608a3101fd"
      },
      "source": [
        "df.isnull().sum() # nerde kaç eksik var elde ettik"
      ],
      "execution_count": 199,
      "outputs": [
        {
          "output_type": "execute_result",
          "data": {
            "text/plain": [
              "V1    2\n",
              "V2    2\n",
              "V3    2\n",
              "dtype: int64"
            ]
          },
          "metadata": {
            "tags": []
          },
          "execution_count": 199
        }
      ]
    },
    {
      "cell_type": "markdown",
      "metadata": {
        "id": "iVvMTc17bH0z",
        "colab_type": "text"
      },
      "source": [
        "#### Eksiklerden kurtulmak için 1- silmek"
      ]
    },
    {
      "cell_type": "code",
      "metadata": {
        "id": "fIPup4d_bH0z",
        "colab_type": "code",
        "colab": {
          "base_uri": "https://localhost:8080/",
          "height": 173
        },
        "outputId": "2c9ffbf7-869f-4862-a834-89e1d609d951"
      },
      "source": [
        "dff = df.dropna() # 1 tane eksik değer için bile tüm gözlem birimi silindi.\n",
        "dff"
      ],
      "execution_count": 200,
      "outputs": [
        {
          "output_type": "execute_result",
          "data": {
            "text/html": [
              "<div>\n",
              "<style scoped>\n",
              "    .dataframe tbody tr th:only-of-type {\n",
              "        vertical-align: middle;\n",
              "    }\n",
              "\n",
              "    .dataframe tbody tr th {\n",
              "        vertical-align: top;\n",
              "    }\n",
              "\n",
              "    .dataframe thead th {\n",
              "        text-align: right;\n",
              "    }\n",
              "</style>\n",
              "<table border=\"1\" class=\"dataframe\">\n",
              "  <thead>\n",
              "    <tr style=\"text-align: right;\">\n",
              "      <th></th>\n",
              "      <th>V1</th>\n",
              "      <th>V2</th>\n",
              "      <th>V3</th>\n",
              "    </tr>\n",
              "  </thead>\n",
              "  <tbody>\n",
              "    <tr>\n",
              "      <th>2</th>\n",
              "      <td>6.0</td>\n",
              "      <td>5.0</td>\n",
              "      <td>5.0</td>\n",
              "    </tr>\n",
              "    <tr>\n",
              "      <th>4</th>\n",
              "      <td>7.0</td>\n",
              "      <td>12.0</td>\n",
              "      <td>14.0</td>\n",
              "    </tr>\n",
              "    <tr>\n",
              "      <th>7</th>\n",
              "      <td>9.0</td>\n",
              "      <td>3.0</td>\n",
              "      <td>2.0</td>\n",
              "    </tr>\n",
              "    <tr>\n",
              "      <th>8</th>\n",
              "      <td>15.0</td>\n",
              "      <td>9.0</td>\n",
              "      <td>31.0</td>\n",
              "    </tr>\n",
              "  </tbody>\n",
              "</table>\n",
              "</div>"
            ],
            "text/plain": [
              "     V1    V2    V3\n",
              "2   6.0   5.0   5.0\n",
              "4   7.0  12.0  14.0\n",
              "7   9.0   3.0   2.0\n",
              "8  15.0   9.0  31.0"
            ]
          },
          "metadata": {
            "tags": []
          },
          "execution_count": 200
        }
      ]
    },
    {
      "cell_type": "markdown",
      "metadata": {
        "id": "01K2HerubH01",
        "colab_type": "text"
      },
      "source": [
        "#### Eksiklerden kurtulmak için 2-basit değer atamak"
      ]
    },
    {
      "cell_type": "code",
      "metadata": {
        "id": "CzzaPv1ebH01",
        "colab_type": "code",
        "colab": {
          "base_uri": "https://localhost:8080/",
          "height": 34
        },
        "outputId": "170e01c3-96aa-4fdd-bf98-b784d385c304"
      },
      "source": [
        "df[\"V1\"].mean()"
      ],
      "execution_count": 201,
      "outputs": [
        {
          "output_type": "execute_result",
          "data": {
            "text/plain": [
              "6.0"
            ]
          },
          "metadata": {
            "tags": []
          },
          "execution_count": 201
        }
      ]
    },
    {
      "cell_type": "code",
      "metadata": {
        "id": "R6aFRN3cbH04",
        "colab_type": "code",
        "colab": {
          "base_uri": "https://localhost:8080/",
          "height": 187
        },
        "outputId": "382394ab-8d73-4747-c9fa-bcd3b44aaa80"
      },
      "source": [
        "df[\"V1\"].fillna(df[\"V1\"].mean()) # eksik gözlemleri ortalamasıyla doldurduk."
      ],
      "execution_count": 202,
      "outputs": [
        {
          "output_type": "execute_result",
          "data": {
            "text/plain": [
              "0     1.0\n",
              "1     3.0\n",
              "2     6.0\n",
              "3     6.0\n",
              "4     7.0\n",
              "5     1.0\n",
              "6     6.0\n",
              "7     9.0\n",
              "8    15.0\n",
              "Name: V1, dtype: float64"
            ]
          },
          "metadata": {
            "tags": []
          },
          "execution_count": 202
        }
      ]
    },
    {
      "cell_type": "code",
      "metadata": {
        "id": "kHxovkIWbH06",
        "colab_type": "code",
        "colab": {
          "base_uri": "https://localhost:8080/",
          "height": 187
        },
        "outputId": "0e593dfd-0412-46b7-bbb9-c937d125518d"
      },
      "source": [
        "df[\"V1\"].fillna(0) #Na ler bazen 0 anlamına gelebilir. Bunun farkında olarak bazen 0 atanabilir."
      ],
      "execution_count": 203,
      "outputs": [
        {
          "output_type": "execute_result",
          "data": {
            "text/plain": [
              "0     1.0\n",
              "1     3.0\n",
              "2     6.0\n",
              "3     0.0\n",
              "4     7.0\n",
              "5     1.0\n",
              "6     0.0\n",
              "7     9.0\n",
              "8    15.0\n",
              "Name: V1, dtype: float64"
            ]
          },
          "metadata": {
            "tags": []
          },
          "execution_count": 203
        }
      ]
    },
    {
      "cell_type": "code",
      "metadata": {
        "id": "yrHFEFRUbH07",
        "colab_type": "code",
        "colab": {
          "base_uri": "https://localhost:8080/",
          "height": 328
        },
        "outputId": "f22a84d3-5930-4ac5-98ca-4bca6b505e69"
      },
      "source": [
        "df.apply(lambda x: x.fillna(x.mean(),axis = 0)) # apply ile dolaş dedik lambda ile fonksiyon yazdık.\n",
        "# fonksiyonda  fillna ile ortalama ile doldurduk.\n"
      ],
      "execution_count": 205,
      "outputs": [
        {
          "output_type": "execute_result",
          "data": {
            "text/html": [
              "<div>\n",
              "<style scoped>\n",
              "    .dataframe tbody tr th:only-of-type {\n",
              "        vertical-align: middle;\n",
              "    }\n",
              "\n",
              "    .dataframe tbody tr th {\n",
              "        vertical-align: top;\n",
              "    }\n",
              "\n",
              "    .dataframe thead th {\n",
              "        text-align: right;\n",
              "    }\n",
              "</style>\n",
              "<table border=\"1\" class=\"dataframe\">\n",
              "  <thead>\n",
              "    <tr style=\"text-align: right;\">\n",
              "      <th></th>\n",
              "      <th>V1</th>\n",
              "      <th>V2</th>\n",
              "      <th>V3</th>\n",
              "    </tr>\n",
              "  </thead>\n",
              "  <tbody>\n",
              "    <tr>\n",
              "      <th>0</th>\n",
              "      <td>1.0</td>\n",
              "      <td>7.000000</td>\n",
              "      <td>11.0</td>\n",
              "    </tr>\n",
              "    <tr>\n",
              "      <th>1</th>\n",
              "      <td>3.0</td>\n",
              "      <td>6.571429</td>\n",
              "      <td>12.0</td>\n",
              "    </tr>\n",
              "    <tr>\n",
              "      <th>2</th>\n",
              "      <td>6.0</td>\n",
              "      <td>5.000000</td>\n",
              "      <td>5.0</td>\n",
              "    </tr>\n",
              "    <tr>\n",
              "      <th>3</th>\n",
              "      <td>6.0</td>\n",
              "      <td>8.000000</td>\n",
              "      <td>6.0</td>\n",
              "    </tr>\n",
              "    <tr>\n",
              "      <th>4</th>\n",
              "      <td>7.0</td>\n",
              "      <td>12.000000</td>\n",
              "      <td>14.0</td>\n",
              "    </tr>\n",
              "    <tr>\n",
              "      <th>5</th>\n",
              "      <td>1.0</td>\n",
              "      <td>6.571429</td>\n",
              "      <td>7.0</td>\n",
              "    </tr>\n",
              "    <tr>\n",
              "      <th>6</th>\n",
              "      <td>6.0</td>\n",
              "      <td>2.000000</td>\n",
              "      <td>11.0</td>\n",
              "    </tr>\n",
              "    <tr>\n",
              "      <th>7</th>\n",
              "      <td>9.0</td>\n",
              "      <td>3.000000</td>\n",
              "      <td>2.0</td>\n",
              "    </tr>\n",
              "    <tr>\n",
              "      <th>8</th>\n",
              "      <td>15.0</td>\n",
              "      <td>9.000000</td>\n",
              "      <td>31.0</td>\n",
              "    </tr>\n",
              "  </tbody>\n",
              "</table>\n",
              "</div>"
            ],
            "text/plain": [
              "     V1         V2    V3\n",
              "0   1.0   7.000000  11.0\n",
              "1   3.0   6.571429  12.0\n",
              "2   6.0   5.000000   5.0\n",
              "3   6.0   8.000000   6.0\n",
              "4   7.0  12.000000  14.0\n",
              "5   1.0   6.571429   7.0\n",
              "6   6.0   2.000000  11.0\n",
              "7   9.0   3.000000   2.0\n",
              "8  15.0   9.000000  31.0"
            ]
          },
          "metadata": {
            "tags": []
          },
          "execution_count": 205
        }
      ]
    },
    {
      "cell_type": "markdown",
      "metadata": {
        "id": "f9bpiTWobH0_",
        "colab_type": "text"
      },
      "source": [
        "### Eksik Veriyi Saptamak"
      ]
    },
    {
      "cell_type": "code",
      "metadata": {
        "id": "vmw9UP7bbH0_",
        "colab_type": "code",
        "colab": {
          "base_uri": "https://localhost:8080/",
          "height": 328
        },
        "outputId": "9325d74b-24ae-459f-c8a3-3a7f223b1b59"
      },
      "source": [
        "import pandas as pd\n",
        "import numpy as np\n",
        "\n",
        "V1 = np.array([1,3,6,np.NaN,7,1,np.NaN,9,15])\n",
        "V2 = np.array([7,np.NaN,5,8,12,np.NaN,2,3,9])\n",
        "V3 = np.array([np.NaN,12,5,6,14,7,np.NaN,2,31])\n",
        "\n",
        "df = pd.DataFrame({\"V1\": V1,\n",
        "                  \"V2\":V2,\n",
        "                  \"V3\":V3})\n",
        "df"
      ],
      "execution_count": 206,
      "outputs": [
        {
          "output_type": "execute_result",
          "data": {
            "text/html": [
              "<div>\n",
              "<style scoped>\n",
              "    .dataframe tbody tr th:only-of-type {\n",
              "        vertical-align: middle;\n",
              "    }\n",
              "\n",
              "    .dataframe tbody tr th {\n",
              "        vertical-align: top;\n",
              "    }\n",
              "\n",
              "    .dataframe thead th {\n",
              "        text-align: right;\n",
              "    }\n",
              "</style>\n",
              "<table border=\"1\" class=\"dataframe\">\n",
              "  <thead>\n",
              "    <tr style=\"text-align: right;\">\n",
              "      <th></th>\n",
              "      <th>V1</th>\n",
              "      <th>V2</th>\n",
              "      <th>V3</th>\n",
              "    </tr>\n",
              "  </thead>\n",
              "  <tbody>\n",
              "    <tr>\n",
              "      <th>0</th>\n",
              "      <td>1.0</td>\n",
              "      <td>7.0</td>\n",
              "      <td>NaN</td>\n",
              "    </tr>\n",
              "    <tr>\n",
              "      <th>1</th>\n",
              "      <td>3.0</td>\n",
              "      <td>NaN</td>\n",
              "      <td>12.0</td>\n",
              "    </tr>\n",
              "    <tr>\n",
              "      <th>2</th>\n",
              "      <td>6.0</td>\n",
              "      <td>5.0</td>\n",
              "      <td>5.0</td>\n",
              "    </tr>\n",
              "    <tr>\n",
              "      <th>3</th>\n",
              "      <td>NaN</td>\n",
              "      <td>8.0</td>\n",
              "      <td>6.0</td>\n",
              "    </tr>\n",
              "    <tr>\n",
              "      <th>4</th>\n",
              "      <td>7.0</td>\n",
              "      <td>12.0</td>\n",
              "      <td>14.0</td>\n",
              "    </tr>\n",
              "    <tr>\n",
              "      <th>5</th>\n",
              "      <td>1.0</td>\n",
              "      <td>NaN</td>\n",
              "      <td>7.0</td>\n",
              "    </tr>\n",
              "    <tr>\n",
              "      <th>6</th>\n",
              "      <td>NaN</td>\n",
              "      <td>2.0</td>\n",
              "      <td>NaN</td>\n",
              "    </tr>\n",
              "    <tr>\n",
              "      <th>7</th>\n",
              "      <td>9.0</td>\n",
              "      <td>3.0</td>\n",
              "      <td>2.0</td>\n",
              "    </tr>\n",
              "    <tr>\n",
              "      <th>8</th>\n",
              "      <td>15.0</td>\n",
              "      <td>9.0</td>\n",
              "      <td>31.0</td>\n",
              "    </tr>\n",
              "  </tbody>\n",
              "</table>\n",
              "</div>"
            ],
            "text/plain": [
              "     V1    V2    V3\n",
              "0   1.0   7.0   NaN\n",
              "1   3.0   NaN  12.0\n",
              "2   6.0   5.0   5.0\n",
              "3   NaN   8.0   6.0\n",
              "4   7.0  12.0  14.0\n",
              "5   1.0   NaN   7.0\n",
              "6   NaN   2.0   NaN\n",
              "7   9.0   3.0   2.0\n",
              "8  15.0   9.0  31.0"
            ]
          },
          "metadata": {
            "tags": []
          },
          "execution_count": 206
        }
      ]
    },
    {
      "cell_type": "code",
      "metadata": {
        "id": "6f5IPZzHbH1C",
        "colab_type": "code",
        "colab": {
          "base_uri": "https://localhost:8080/",
          "height": 85
        },
        "outputId": "29e4c9fe-494e-4a97-f71b-dced213bcc6e"
      },
      "source": [
        "df.notnull().sum() # değişkenlerdki eksik olmayanların sayısına eriştik."
      ],
      "execution_count": 207,
      "outputs": [
        {
          "output_type": "execute_result",
          "data": {
            "text/plain": [
              "V1    7\n",
              "V2    7\n",
              "V3    7\n",
              "dtype: int64"
            ]
          },
          "metadata": {
            "tags": []
          },
          "execution_count": 207
        }
      ]
    },
    {
      "cell_type": "code",
      "metadata": {
        "id": "sVLgSO3AbH1D",
        "colab_type": "code",
        "colab": {
          "base_uri": "https://localhost:8080/",
          "height": 34
        },
        "outputId": "97bdeee9-bd39-4b1e-db90-d044c8a1c772"
      },
      "source": [
        "df.isnull().sum().sum() # toplam eksik."
      ],
      "execution_count": 208,
      "outputs": [
        {
          "output_type": "execute_result",
          "data": {
            "text/plain": [
              "6"
            ]
          },
          "metadata": {
            "tags": []
          },
          "execution_count": 208
        }
      ]
    },
    {
      "cell_type": "code",
      "metadata": {
        "id": "u4B3nEgmbH1H",
        "colab_type": "code",
        "colab": {
          "base_uri": "https://localhost:8080/",
          "height": 328
        },
        "outputId": "fd02a818-f27c-4474-e984-7fac6e881d1f"
      },
      "source": [
        "df.isnull()"
      ],
      "execution_count": 209,
      "outputs": [
        {
          "output_type": "execute_result",
          "data": {
            "text/html": [
              "<div>\n",
              "<style scoped>\n",
              "    .dataframe tbody tr th:only-of-type {\n",
              "        vertical-align: middle;\n",
              "    }\n",
              "\n",
              "    .dataframe tbody tr th {\n",
              "        vertical-align: top;\n",
              "    }\n",
              "\n",
              "    .dataframe thead th {\n",
              "        text-align: right;\n",
              "    }\n",
              "</style>\n",
              "<table border=\"1\" class=\"dataframe\">\n",
              "  <thead>\n",
              "    <tr style=\"text-align: right;\">\n",
              "      <th></th>\n",
              "      <th>V1</th>\n",
              "      <th>V2</th>\n",
              "      <th>V3</th>\n",
              "    </tr>\n",
              "  </thead>\n",
              "  <tbody>\n",
              "    <tr>\n",
              "      <th>0</th>\n",
              "      <td>False</td>\n",
              "      <td>False</td>\n",
              "      <td>True</td>\n",
              "    </tr>\n",
              "    <tr>\n",
              "      <th>1</th>\n",
              "      <td>False</td>\n",
              "      <td>True</td>\n",
              "      <td>False</td>\n",
              "    </tr>\n",
              "    <tr>\n",
              "      <th>2</th>\n",
              "      <td>False</td>\n",
              "      <td>False</td>\n",
              "      <td>False</td>\n",
              "    </tr>\n",
              "    <tr>\n",
              "      <th>3</th>\n",
              "      <td>True</td>\n",
              "      <td>False</td>\n",
              "      <td>False</td>\n",
              "    </tr>\n",
              "    <tr>\n",
              "      <th>4</th>\n",
              "      <td>False</td>\n",
              "      <td>False</td>\n",
              "      <td>False</td>\n",
              "    </tr>\n",
              "    <tr>\n",
              "      <th>5</th>\n",
              "      <td>False</td>\n",
              "      <td>True</td>\n",
              "      <td>False</td>\n",
              "    </tr>\n",
              "    <tr>\n",
              "      <th>6</th>\n",
              "      <td>True</td>\n",
              "      <td>False</td>\n",
              "      <td>True</td>\n",
              "    </tr>\n",
              "    <tr>\n",
              "      <th>7</th>\n",
              "      <td>False</td>\n",
              "      <td>False</td>\n",
              "      <td>False</td>\n",
              "    </tr>\n",
              "    <tr>\n",
              "      <th>8</th>\n",
              "      <td>False</td>\n",
              "      <td>False</td>\n",
              "      <td>False</td>\n",
              "    </tr>\n",
              "  </tbody>\n",
              "</table>\n",
              "</div>"
            ],
            "text/plain": [
              "      V1     V2     V3\n",
              "0  False  False   True\n",
              "1  False   True  False\n",
              "2  False  False  False\n",
              "3   True  False  False\n",
              "4  False  False  False\n",
              "5  False   True  False\n",
              "6   True  False   True\n",
              "7  False  False  False\n",
              "8  False  False  False"
            ]
          },
          "metadata": {
            "tags": []
          },
          "execution_count": 209
        }
      ]
    },
    {
      "cell_type": "code",
      "metadata": {
        "id": "vPHVvg3obH1J",
        "colab_type": "code",
        "colab": {
          "base_uri": "https://localhost:8080/",
          "height": 204
        },
        "outputId": "2e62caf0-aad6-407d-f248-750b7e4526bb"
      },
      "source": [
        "df[df.isnull().any(axis =1)] # en az birinde eksik değer olan gözlem birimlerini yakaladık."
      ],
      "execution_count": 210,
      "outputs": [
        {
          "output_type": "execute_result",
          "data": {
            "text/html": [
              "<div>\n",
              "<style scoped>\n",
              "    .dataframe tbody tr th:only-of-type {\n",
              "        vertical-align: middle;\n",
              "    }\n",
              "\n",
              "    .dataframe tbody tr th {\n",
              "        vertical-align: top;\n",
              "    }\n",
              "\n",
              "    .dataframe thead th {\n",
              "        text-align: right;\n",
              "    }\n",
              "</style>\n",
              "<table border=\"1\" class=\"dataframe\">\n",
              "  <thead>\n",
              "    <tr style=\"text-align: right;\">\n",
              "      <th></th>\n",
              "      <th>V1</th>\n",
              "      <th>V2</th>\n",
              "      <th>V3</th>\n",
              "    </tr>\n",
              "  </thead>\n",
              "  <tbody>\n",
              "    <tr>\n",
              "      <th>0</th>\n",
              "      <td>1.0</td>\n",
              "      <td>7.0</td>\n",
              "      <td>NaN</td>\n",
              "    </tr>\n",
              "    <tr>\n",
              "      <th>1</th>\n",
              "      <td>3.0</td>\n",
              "      <td>NaN</td>\n",
              "      <td>12.0</td>\n",
              "    </tr>\n",
              "    <tr>\n",
              "      <th>3</th>\n",
              "      <td>NaN</td>\n",
              "      <td>8.0</td>\n",
              "      <td>6.0</td>\n",
              "    </tr>\n",
              "    <tr>\n",
              "      <th>5</th>\n",
              "      <td>1.0</td>\n",
              "      <td>NaN</td>\n",
              "      <td>7.0</td>\n",
              "    </tr>\n",
              "    <tr>\n",
              "      <th>6</th>\n",
              "      <td>NaN</td>\n",
              "      <td>2.0</td>\n",
              "      <td>NaN</td>\n",
              "    </tr>\n",
              "  </tbody>\n",
              "</table>\n",
              "</div>"
            ],
            "text/plain": [
              "    V1   V2    V3\n",
              "0  1.0  7.0   NaN\n",
              "1  3.0  NaN  12.0\n",
              "3  NaN  8.0   6.0\n",
              "5  1.0  NaN   7.0\n",
              "6  NaN  2.0   NaN"
            ]
          },
          "metadata": {
            "tags": []
          },
          "execution_count": 210
        }
      ]
    },
    {
      "cell_type": "code",
      "metadata": {
        "id": "9awJEHuhbH1L",
        "colab_type": "code",
        "colab": {
          "base_uri": "https://localhost:8080/",
          "height": 173
        },
        "outputId": "5b89d5ba-ce69-475a-d72c-53bdc07e9fa4"
      },
      "source": [
        "df[df.notnull().all(axis = 1)] # tüm değerleri tam olan gözlem birimlerini yakaladık."
      ],
      "execution_count": 211,
      "outputs": [
        {
          "output_type": "execute_result",
          "data": {
            "text/html": [
              "<div>\n",
              "<style scoped>\n",
              "    .dataframe tbody tr th:only-of-type {\n",
              "        vertical-align: middle;\n",
              "    }\n",
              "\n",
              "    .dataframe tbody tr th {\n",
              "        vertical-align: top;\n",
              "    }\n",
              "\n",
              "    .dataframe thead th {\n",
              "        text-align: right;\n",
              "    }\n",
              "</style>\n",
              "<table border=\"1\" class=\"dataframe\">\n",
              "  <thead>\n",
              "    <tr style=\"text-align: right;\">\n",
              "      <th></th>\n",
              "      <th>V1</th>\n",
              "      <th>V2</th>\n",
              "      <th>V3</th>\n",
              "    </tr>\n",
              "  </thead>\n",
              "  <tbody>\n",
              "    <tr>\n",
              "      <th>2</th>\n",
              "      <td>6.0</td>\n",
              "      <td>5.0</td>\n",
              "      <td>5.0</td>\n",
              "    </tr>\n",
              "    <tr>\n",
              "      <th>4</th>\n",
              "      <td>7.0</td>\n",
              "      <td>12.0</td>\n",
              "      <td>14.0</td>\n",
              "    </tr>\n",
              "    <tr>\n",
              "      <th>7</th>\n",
              "      <td>9.0</td>\n",
              "      <td>3.0</td>\n",
              "      <td>2.0</td>\n",
              "    </tr>\n",
              "    <tr>\n",
              "      <th>8</th>\n",
              "      <td>15.0</td>\n",
              "      <td>9.0</td>\n",
              "      <td>31.0</td>\n",
              "    </tr>\n",
              "  </tbody>\n",
              "</table>\n",
              "</div>"
            ],
            "text/plain": [
              "     V1    V2    V3\n",
              "2   6.0   5.0   5.0\n",
              "4   7.0  12.0  14.0\n",
              "7   9.0   3.0   2.0\n",
              "8  15.0   9.0  31.0"
            ]
          },
          "metadata": {
            "tags": []
          },
          "execution_count": 211
        }
      ]
    },
    {
      "cell_type": "markdown",
      "metadata": {
        "id": "z3JCiSAAbH1N",
        "colab_type": "text"
      },
      "source": [
        "#### Görselleştirme ve Rassallık incelemesi "
      ]
    },
    {
      "cell_type": "code",
      "metadata": {
        "id": "q2x0znDobH1N",
        "colab_type": "code",
        "colab": {
          "base_uri": "https://localhost:8080/",
          "height": 221
        },
        "outputId": "dc352366-4699-445a-b7aa-553090e26f04"
      },
      "source": [
        "!pip install missingno"
      ],
      "execution_count": 212,
      "outputs": [
        {
          "output_type": "stream",
          "text": [
            "Requirement already satisfied: missingno in /usr/local/lib/python3.6/dist-packages (0.4.2)\n",
            "Requirement already satisfied: numpy in /usr/local/lib/python3.6/dist-packages (from missingno) (1.18.4)\n",
            "Requirement already satisfied: matplotlib in /usr/local/lib/python3.6/dist-packages (from missingno) (3.2.1)\n",
            "Requirement already satisfied: seaborn in /usr/local/lib/python3.6/dist-packages (from missingno) (0.10.1)\n",
            "Requirement already satisfied: scipy in /usr/local/lib/python3.6/dist-packages (from missingno) (1.4.1)\n",
            "Requirement already satisfied: cycler>=0.10 in /usr/local/lib/python3.6/dist-packages (from matplotlib->missingno) (0.10.0)\n",
            "Requirement already satisfied: python-dateutil>=2.1 in /usr/local/lib/python3.6/dist-packages (from matplotlib->missingno) (2.8.1)\n",
            "Requirement already satisfied: pyparsing!=2.0.4,!=2.1.2,!=2.1.6,>=2.0.1 in /usr/local/lib/python3.6/dist-packages (from matplotlib->missingno) (2.4.7)\n",
            "Requirement already satisfied: kiwisolver>=1.0.1 in /usr/local/lib/python3.6/dist-packages (from matplotlib->missingno) (1.2.0)\n",
            "Requirement already satisfied: pandas>=0.22.0 in /usr/local/lib/python3.6/dist-packages (from seaborn->missingno) (1.0.3)\n",
            "Requirement already satisfied: six in /usr/local/lib/python3.6/dist-packages (from cycler>=0.10->matplotlib->missingno) (1.12.0)\n",
            "Requirement already satisfied: pytz>=2017.2 in /usr/local/lib/python3.6/dist-packages (from pandas>=0.22.0->seaborn->missingno) (2018.9)\n"
          ],
          "name": "stdout"
        }
      ]
    },
    {
      "cell_type": "code",
      "metadata": {
        "id": "3NXxutmzbH1P",
        "colab_type": "code",
        "colab": {}
      },
      "source": [
        "import missingno as msno\n",
        "import seaborn as sns"
      ],
      "execution_count": 0,
      "outputs": []
    },
    {
      "cell_type": "code",
      "metadata": {
        "id": "6YOzfARZbH1R",
        "colab_type": "code",
        "colab": {
          "base_uri": "https://localhost:8080/",
          "height": 328
        },
        "outputId": "2c0856d5-d721-472d-82cc-2efc05bb39f3"
      },
      "source": [
        "df"
      ],
      "execution_count": 214,
      "outputs": [
        {
          "output_type": "execute_result",
          "data": {
            "text/html": [
              "<div>\n",
              "<style scoped>\n",
              "    .dataframe tbody tr th:only-of-type {\n",
              "        vertical-align: middle;\n",
              "    }\n",
              "\n",
              "    .dataframe tbody tr th {\n",
              "        vertical-align: top;\n",
              "    }\n",
              "\n",
              "    .dataframe thead th {\n",
              "        text-align: right;\n",
              "    }\n",
              "</style>\n",
              "<table border=\"1\" class=\"dataframe\">\n",
              "  <thead>\n",
              "    <tr style=\"text-align: right;\">\n",
              "      <th></th>\n",
              "      <th>V1</th>\n",
              "      <th>V2</th>\n",
              "      <th>V3</th>\n",
              "    </tr>\n",
              "  </thead>\n",
              "  <tbody>\n",
              "    <tr>\n",
              "      <th>0</th>\n",
              "      <td>1.0</td>\n",
              "      <td>7.0</td>\n",
              "      <td>NaN</td>\n",
              "    </tr>\n",
              "    <tr>\n",
              "      <th>1</th>\n",
              "      <td>3.0</td>\n",
              "      <td>NaN</td>\n",
              "      <td>12.0</td>\n",
              "    </tr>\n",
              "    <tr>\n",
              "      <th>2</th>\n",
              "      <td>6.0</td>\n",
              "      <td>5.0</td>\n",
              "      <td>5.0</td>\n",
              "    </tr>\n",
              "    <tr>\n",
              "      <th>3</th>\n",
              "      <td>NaN</td>\n",
              "      <td>8.0</td>\n",
              "      <td>6.0</td>\n",
              "    </tr>\n",
              "    <tr>\n",
              "      <th>4</th>\n",
              "      <td>7.0</td>\n",
              "      <td>12.0</td>\n",
              "      <td>14.0</td>\n",
              "    </tr>\n",
              "    <tr>\n",
              "      <th>5</th>\n",
              "      <td>1.0</td>\n",
              "      <td>NaN</td>\n",
              "      <td>7.0</td>\n",
              "    </tr>\n",
              "    <tr>\n",
              "      <th>6</th>\n",
              "      <td>NaN</td>\n",
              "      <td>2.0</td>\n",
              "      <td>NaN</td>\n",
              "    </tr>\n",
              "    <tr>\n",
              "      <th>7</th>\n",
              "      <td>9.0</td>\n",
              "      <td>3.0</td>\n",
              "      <td>2.0</td>\n",
              "    </tr>\n",
              "    <tr>\n",
              "      <th>8</th>\n",
              "      <td>15.0</td>\n",
              "      <td>9.0</td>\n",
              "      <td>31.0</td>\n",
              "    </tr>\n",
              "  </tbody>\n",
              "</table>\n",
              "</div>"
            ],
            "text/plain": [
              "     V1    V2    V3\n",
              "0   1.0   7.0   NaN\n",
              "1   3.0   NaN  12.0\n",
              "2   6.0   5.0   5.0\n",
              "3   NaN   8.0   6.0\n",
              "4   7.0  12.0  14.0\n",
              "5   1.0   NaN   7.0\n",
              "6   NaN   2.0   NaN\n",
              "7   9.0   3.0   2.0\n",
              "8  15.0   9.0  31.0"
            ]
          },
          "metadata": {
            "tags": []
          },
          "execution_count": 214
        }
      ]
    },
    {
      "cell_type": "code",
      "metadata": {
        "id": "9OqWlfgbbH1T",
        "colab_type": "code",
        "colab": {
          "base_uri": "https://localhost:8080/",
          "height": 562
        },
        "outputId": "853f375a-f2a3-4f6d-a71c-d861740731d0"
      },
      "source": [
        "msno.bar(df);\n",
        "# eksik gözlem sayısının toplam gözlem sayısına oranın göre değişkenlerin "
      ],
      "execution_count": 215,
      "outputs": [
        {
          "output_type": "display_data",
          "data": {
            "image/png": "[encoded data removed]",
            "text/plain": [
              "<Figure size 1728x720 with 3 Axes>"
            ]
          },
          "metadata": {
            "tags": [],
            "needs_background": "light"
          }
        }
      ]
    },
    {
      "cell_type": "code",
      "metadata": {
        "id": "AxBGaVJHbH1V",
        "colab_type": "code",
        "colab": {
          "base_uri": "https://localhost:8080/",
          "height": 85
        },
        "outputId": "0b71db15-3da6-4184-ca53-cf77cc65c48d"
      },
      "source": [
        "df.isnull().sum()"
      ],
      "execution_count": 216,
      "outputs": [
        {
          "output_type": "execute_result",
          "data": {
            "text/plain": [
              "V1    2\n",
              "V2    2\n",
              "V3    2\n",
              "dtype: int64"
            ]
          },
          "metadata": {
            "tags": []
          },
          "execution_count": 216
        }
      ]
    },
    {
      "cell_type": "code",
      "metadata": {
        "id": "93lqLCikbH1W",
        "colab_type": "code",
        "colab": {
          "base_uri": "https://localhost:8080/",
          "height": 328
        },
        "outputId": "0defc2b7-4c18-4aa4-dca6-85e13af5d69b"
      },
      "source": [
        "df"
      ],
      "execution_count": 217,
      "outputs": [
        {
          "output_type": "execute_result",
          "data": {
            "text/html": [
              "<div>\n",
              "<style scoped>\n",
              "    .dataframe tbody tr th:only-of-type {\n",
              "        vertical-align: middle;\n",
              "    }\n",
              "\n",
              "    .dataframe tbody tr th {\n",
              "        vertical-align: top;\n",
              "    }\n",
              "\n",
              "    .dataframe thead th {\n",
              "        text-align: right;\n",
              "    }\n",
              "</style>\n",
              "<table border=\"1\" class=\"dataframe\">\n",
              "  <thead>\n",
              "    <tr style=\"text-align: right;\">\n",
              "      <th></th>\n",
              "      <th>V1</th>\n",
              "      <th>V2</th>\n",
              "      <th>V3</th>\n",
              "    </tr>\n",
              "  </thead>\n",
              "  <tbody>\n",
              "    <tr>\n",
              "      <th>0</th>\n",
              "      <td>1.0</td>\n",
              "      <td>7.0</td>\n",
              "      <td>NaN</td>\n",
              "    </tr>\n",
              "    <tr>\n",
              "      <th>1</th>\n",
              "      <td>3.0</td>\n",
              "      <td>NaN</td>\n",
              "      <td>12.0</td>\n",
              "    </tr>\n",
              "    <tr>\n",
              "      <th>2</th>\n",
              "      <td>6.0</td>\n",
              "      <td>5.0</td>\n",
              "      <td>5.0</td>\n",
              "    </tr>\n",
              "    <tr>\n",
              "      <th>3</th>\n",
              "      <td>NaN</td>\n",
              "      <td>8.0</td>\n",
              "      <td>6.0</td>\n",
              "    </tr>\n",
              "    <tr>\n",
              "      <th>4</th>\n",
              "      <td>7.0</td>\n",
              "      <td>12.0</td>\n",
              "      <td>14.0</td>\n",
              "    </tr>\n",
              "    <tr>\n",
              "      <th>5</th>\n",
              "      <td>1.0</td>\n",
              "      <td>NaN</td>\n",
              "      <td>7.0</td>\n",
              "    </tr>\n",
              "    <tr>\n",
              "      <th>6</th>\n",
              "      <td>NaN</td>\n",
              "      <td>2.0</td>\n",
              "      <td>NaN</td>\n",
              "    </tr>\n",
              "    <tr>\n",
              "      <th>7</th>\n",
              "      <td>9.0</td>\n",
              "      <td>3.0</td>\n",
              "      <td>2.0</td>\n",
              "    </tr>\n",
              "    <tr>\n",
              "      <th>8</th>\n",
              "      <td>15.0</td>\n",
              "      <td>9.0</td>\n",
              "      <td>31.0</td>\n",
              "    </tr>\n",
              "  </tbody>\n",
              "</table>\n",
              "</div>"
            ],
            "text/plain": [
              "     V1    V2    V3\n",
              "0   1.0   7.0   NaN\n",
              "1   3.0   NaN  12.0\n",
              "2   6.0   5.0   5.0\n",
              "3   NaN   8.0   6.0\n",
              "4   7.0  12.0  14.0\n",
              "5   1.0   NaN   7.0\n",
              "6   NaN   2.0   NaN\n",
              "7   9.0   3.0   2.0\n",
              "8  15.0   9.0  31.0"
            ]
          },
          "metadata": {
            "tags": []
          },
          "execution_count": 217
        }
      ]
    },
    {
      "cell_type": "code",
      "metadata": {
        "id": "c2dVbtwgbH1c",
        "colab_type": "code",
        "colab": {
          "base_uri": "https://localhost:8080/",
          "height": 282
        },
        "outputId": "3d32180f-9312-4e4a-abed-3db66d011867"
      },
      "source": [
        "sns.heatmap(df.isnull(), cbar = False)\n",
        "# eksik gözlemin yapısını ve dağlışını ısı haritasıyla güzel birr şekilde görüyoruz.\n",
        "# heatmap ile rassallık tespit edilebilir. aralarındaki ilişki göz önüne serilebilir."
      ],
      "execution_count": 218,
      "outputs": [
        {
          "output_type": "execute_result",
          "data": {
            "text/plain": [
              "<matplotlib.axes._subplots.AxesSubplot at 0x7f0ff7aa6080>"
            ]
          },
          "metadata": {
            "tags": []
          },
          "execution_count": 218
        },
        {
          "output_type": "display_data",
          "data": {
            "image/png": "[encoded data removed]",
            "text/plain": [
              "<Figure size 432x288 with 1 Axes>"
            ]
          },
          "metadata": {
            "tags": [],
            "needs_background": "light"
          }
        }
      ]
    },
    {
      "cell_type": "code",
      "metadata": {
        "id": "s3x7pnCkbH1e",
        "colab_type": "code",
        "colab": {
          "base_uri": "https://localhost:8080/",
          "height": 550
        },
        "outputId": "1788c307-c059-43e6-8468-51e241c41ec4"
      },
      "source": [
        "msno.matrix(df) "
      ],
      "execution_count": 219,
      "outputs": [
        {
          "output_type": "execute_result",
          "data": {
            "text/plain": [
              "<matplotlib.axes._subplots.AxesSubplot at 0x7f0ff7a2ba20>"
            ]
          },
          "metadata": {
            "tags": []
          },
          "execution_count": 219
        },
        {
          "output_type": "display_data",
          "data": {
            "image/png": "[encoded data removed]",
            "text/plain": [
              "<Figure size 1800x720 with 2 Axes>"
            ]
          },
          "metadata": {
            "tags": [],
            "needs_background": "light"
          }
        }
      ]
    },
    {
      "cell_type": "code",
      "metadata": {
        "id": "_3hK-fsZbH1h",
        "colab_type": "code",
        "colab": {
          "base_uri": "https://localhost:8080/",
          "height": 204
        },
        "outputId": "cd0faba7-94f5-40d2-c78b-5e5f9392100e"
      },
      "source": [
        "df = sns.load_dataset(\"planets\")\n",
        "df.head()"
      ],
      "execution_count": 220,
      "outputs": [
        {
          "output_type": "execute_result",
          "data": {
            "text/html": [
              "<div>\n",
              "<style scoped>\n",
              "    .dataframe tbody tr th:only-of-type {\n",
              "        vertical-align: middle;\n",
              "    }\n",
              "\n",
              "    .dataframe tbody tr th {\n",
              "        vertical-align: top;\n",
              "    }\n",
              "\n",
              "    .dataframe thead th {\n",
              "        text-align: right;\n",
              "    }\n",
              "</style>\n",
              "<table border=\"1\" class=\"dataframe\">\n",
              "  <thead>\n",
              "    <tr style=\"text-align: right;\">\n",
              "      <th></th>\n",
              "      <th>method</th>\n",
              "      <th>number</th>\n",
              "      <th>orbital_period</th>\n",
              "      <th>mass</th>\n",
              "      <th>distance</th>\n",
              "      <th>year</th>\n",
              "    </tr>\n",
              "  </thead>\n",
              "  <tbody>\n",
              "    <tr>\n",
              "      <th>0</th>\n",
              "      <td>Radial Velocity</td>\n",
              "      <td>1</td>\n",
              "      <td>269.300</td>\n",
              "      <td>7.10</td>\n",
              "      <td>77.40</td>\n",
              "      <td>2006</td>\n",
              "    </tr>\n",
              "    <tr>\n",
              "      <th>1</th>\n",
              "      <td>Radial Velocity</td>\n",
              "      <td>1</td>\n",
              "      <td>874.774</td>\n",
              "      <td>2.21</td>\n",
              "      <td>56.95</td>\n",
              "      <td>2008</td>\n",
              "    </tr>\n",
              "    <tr>\n",
              "      <th>2</th>\n",
              "      <td>Radial Velocity</td>\n",
              "      <td>1</td>\n",
              "      <td>763.000</td>\n",
              "      <td>2.60</td>\n",
              "      <td>19.84</td>\n",
              "      <td>2011</td>\n",
              "    </tr>\n",
              "    <tr>\n",
              "      <th>3</th>\n",
              "      <td>Radial Velocity</td>\n",
              "      <td>1</td>\n",
              "      <td>326.030</td>\n",
              "      <td>19.40</td>\n",
              "      <td>110.62</td>\n",
              "      <td>2007</td>\n",
              "    </tr>\n",
              "    <tr>\n",
              "      <th>4</th>\n",
              "      <td>Radial Velocity</td>\n",
              "      <td>1</td>\n",
              "      <td>516.220</td>\n",
              "      <td>10.50</td>\n",
              "      <td>119.47</td>\n",
              "      <td>2009</td>\n",
              "    </tr>\n",
              "  </tbody>\n",
              "</table>\n",
              "</div>"
            ],
            "text/plain": [
              "            method  number  orbital_period   mass  distance  year\n",
              "0  Radial Velocity       1         269.300   7.10     77.40  2006\n",
              "1  Radial Velocity       1         874.774   2.21     56.95  2008\n",
              "2  Radial Velocity       1         763.000   2.60     19.84  2011\n",
              "3  Radial Velocity       1         326.030  19.40    110.62  2007\n",
              "4  Radial Velocity       1         516.220  10.50    119.47  2009"
            ]
          },
          "metadata": {
            "tags": []
          },
          "execution_count": 220
        }
      ]
    },
    {
      "cell_type": "code",
      "metadata": {
        "id": "8307D8y-bH1k",
        "colab_type": "code",
        "colab": {
          "base_uri": "https://localhost:8080/",
          "height": 287
        },
        "outputId": "f91b0100-e2d1-45b1-dbfb-3272e8a2eca1"
      },
      "source": [
        "sns.heatmap(df.isnull(), cbar = False)"
      ],
      "execution_count": 221,
      "outputs": [
        {
          "output_type": "execute_result",
          "data": {
            "text/plain": [
              "<matplotlib.axes._subplots.AxesSubplot at 0x7f0ff7b83860>"
            ]
          },
          "metadata": {
            "tags": []
          },
          "execution_count": 221
        },
        {
          "output_type": "display_data",
          "data": {
            "image/png": "[encoded data removed]",
            "text/plain": [
              "<Figure size 432x288 with 1 Axes>"
            ]
          },
          "metadata": {
            "tags": [],
            "needs_background": "light"
          }
        }
      ]
    },
    {
      "cell_type": "code",
      "metadata": {
        "id": "04mrccmEbH1n",
        "colab_type": "code",
        "colab": {
          "base_uri": "https://localhost:8080/",
          "height": 595
        },
        "outputId": "ddab4bac-3232-4d7d-c778-f1d3f4ece65e"
      },
      "source": [
        "msno.matrix(df)"
      ],
      "execution_count": 222,
      "outputs": [
        {
          "output_type": "execute_result",
          "data": {
            "text/plain": [
              "<matplotlib.axes._subplots.AxesSubplot at 0x7f0ff793c940>"
            ]
          },
          "metadata": {
            "tags": []
          },
          "execution_count": 222
        },
        {
          "output_type": "display_data",
          "data": {
            "image/png": "[encoded data removed]",
            "text/plain": [
              "<Figure size 1800x720 with 2 Axes>"
            ]
          },
          "metadata": {
            "tags": [],
            "needs_background": "light"
          }
        }
      ]
    },
    {
      "cell_type": "code",
      "metadata": {
        "id": "k6fnotYkbH1o",
        "colab_type": "code",
        "colab": {
          "base_uri": "https://localhost:8080/",
          "height": 801
        },
        "outputId": "e2571690-dc54-4f06-a6e0-9f8841e38a58"
      },
      "source": [
        "msno.heatmap(df) # nullty korelasyon heatmapı dir. aralarındaki ilişkiyi görmek için kullanılabilir.\n",
        "# değerler -1 ile 1 arasındadır. eğer 1 ise iki değişkene birlikte hareket ederler ilişkisi vardır tanısı konulur.\n",
        "\n",
        "# eğer değer -1 ise değişkenlerin birinde eksiklik olacaksa diğerimde olmayacak anlamı çıkarılır.\n",
        "# eğer  aralarında bir ilişki yoksa üzerinde değer gösterilmez.\n",
        "# mesela mass ile distance arasınd 0.5 lik pozitif yönlü orta şiddetli bir ilişki var.\n",
        "# distance ile orbital period arasında bir değer verilmediği için bir ilişki yoktur.\n",
        "# böylece rassallık tespiti yapmış olduk."
      ],
      "execution_count": 223,
      "outputs": [
        {
          "output_type": "execute_result",
          "data": {
            "text/plain": [
              "<matplotlib.axes._subplots.AxesSubplot at 0x7f0ff7aa6a90>"
            ]
          },
          "metadata": {
            "tags": []
          },
          "execution_count": 223
        },
        {
          "output_type": "display_data",
          "data": {
            "image/png": "[encoded data removed]",
            "text/plain": [
              "<Figure size 1440x864 with 2 Axes>"
            ]
          },
          "metadata": {
            "tags": [],
            "needs_background": "light"
          }
        }
      ]
    },
    {
      "cell_type": "markdown",
      "metadata": {
        "id": "t6N9OBCObH1s",
        "colab_type": "text"
      },
      "source": [
        "### Eksik Veri Silme Yaklaşımları"
      ]
    },
    {
      "cell_type": "code",
      "metadata": {
        "id": "wLFSQ3NBbH1s",
        "colab_type": "code",
        "colab": {
          "base_uri": "https://localhost:8080/",
          "height": 328
        },
        "outputId": "0555bf7e-8c0c-448a-d3aa-a9e2dde6ad8a"
      },
      "source": [
        "import pandas as pd\n",
        "import numpy as np\n",
        "\n",
        "V1 = np.array([1,3,6,np.NaN,7,1,np.NaN,9,15])\n",
        "V2 = np.array([7,np.NaN,5,8,12,2,np.NaN,3,9])\n",
        "V3 = np.array([np.NaN,12,5,6,14,7,np.NaN,2,31])\n",
        "\n",
        "df = pd.DataFrame({\"V1\": V1,\n",
        "                  \"V2\":V2,\n",
        "                  \"V3\":V3})\n",
        "df"
      ],
      "execution_count": 224,
      "outputs": [
        {
          "output_type": "execute_result",
          "data": {
            "text/html": [
              "<div>\n",
              "<style scoped>\n",
              "    .dataframe tbody tr th:only-of-type {\n",
              "        vertical-align: middle;\n",
              "    }\n",
              "\n",
              "    .dataframe tbody tr th {\n",
              "        vertical-align: top;\n",
              "    }\n",
              "\n",
              "    .dataframe thead th {\n",
              "        text-align: right;\n",
              "    }\n",
              "</style>\n",
              "<table border=\"1\" class=\"dataframe\">\n",
              "  <thead>\n",
              "    <tr style=\"text-align: right;\">\n",
              "      <th></th>\n",
              "      <th>V1</th>\n",
              "      <th>V2</th>\n",
              "      <th>V3</th>\n",
              "    </tr>\n",
              "  </thead>\n",
              "  <tbody>\n",
              "    <tr>\n",
              "      <th>0</th>\n",
              "      <td>1.0</td>\n",
              "      <td>7.0</td>\n",
              "      <td>NaN</td>\n",
              "    </tr>\n",
              "    <tr>\n",
              "      <th>1</th>\n",
              "      <td>3.0</td>\n",
              "      <td>NaN</td>\n",
              "      <td>12.0</td>\n",
              "    </tr>\n",
              "    <tr>\n",
              "      <th>2</th>\n",
              "      <td>6.0</td>\n",
              "      <td>5.0</td>\n",
              "      <td>5.0</td>\n",
              "    </tr>\n",
              "    <tr>\n",
              "      <th>3</th>\n",
              "      <td>NaN</td>\n",
              "      <td>8.0</td>\n",
              "      <td>6.0</td>\n",
              "    </tr>\n",
              "    <tr>\n",
              "      <th>4</th>\n",
              "      <td>7.0</td>\n",
              "      <td>12.0</td>\n",
              "      <td>14.0</td>\n",
              "    </tr>\n",
              "    <tr>\n",
              "      <th>5</th>\n",
              "      <td>1.0</td>\n",
              "      <td>2.0</td>\n",
              "      <td>7.0</td>\n",
              "    </tr>\n",
              "    <tr>\n",
              "      <th>6</th>\n",
              "      <td>NaN</td>\n",
              "      <td>NaN</td>\n",
              "      <td>NaN</td>\n",
              "    </tr>\n",
              "    <tr>\n",
              "      <th>7</th>\n",
              "      <td>9.0</td>\n",
              "      <td>3.0</td>\n",
              "      <td>2.0</td>\n",
              "    </tr>\n",
              "    <tr>\n",
              "      <th>8</th>\n",
              "      <td>15.0</td>\n",
              "      <td>9.0</td>\n",
              "      <td>31.0</td>\n",
              "    </tr>\n",
              "  </tbody>\n",
              "</table>\n",
              "</div>"
            ],
            "text/plain": [
              "     V1    V2    V3\n",
              "0   1.0   7.0   NaN\n",
              "1   3.0   NaN  12.0\n",
              "2   6.0   5.0   5.0\n",
              "3   NaN   8.0   6.0\n",
              "4   7.0  12.0  14.0\n",
              "5   1.0   2.0   7.0\n",
              "6   NaN   NaN   NaN\n",
              "7   9.0   3.0   2.0\n",
              "8  15.0   9.0  31.0"
            ]
          },
          "metadata": {
            "tags": []
          },
          "execution_count": 224
        }
      ]
    },
    {
      "cell_type": "code",
      "metadata": {
        "id": "yZGmFq2qbH1u",
        "colab_type": "code",
        "colab": {}
      },
      "source": [
        "# hızlı çözümde birkaç yöntem var."
      ],
      "execution_count": 0,
      "outputs": []
    },
    {
      "cell_type": "code",
      "metadata": {
        "id": "VZg4ssX4bH1w",
        "colab_type": "code",
        "colab": {}
      },
      "source": [
        "# bir diğer yaklaşım tüm gözlem birimlerinde aynıanda NaN olanları silmek."
      ],
      "execution_count": 0,
      "outputs": []
    },
    {
      "cell_type": "code",
      "metadata": {
        "id": "SrD9xz1bbH1y",
        "colab_type": "code",
        "colab": {
          "base_uri": "https://localhost:8080/",
          "height": 297
        },
        "outputId": "fd277373-3a10-4e0e-d922-b693cd11f93a"
      },
      "source": [
        "df.dropna(how = \"all\") # aynı anda hepsi na ise onları sildi."
      ],
      "execution_count": 227,
      "outputs": [
        {
          "output_type": "execute_result",
          "data": {
            "text/html": [
              "<div>\n",
              "<style scoped>\n",
              "    .dataframe tbody tr th:only-of-type {\n",
              "        vertical-align: middle;\n",
              "    }\n",
              "\n",
              "    .dataframe tbody tr th {\n",
              "        vertical-align: top;\n",
              "    }\n",
              "\n",
              "    .dataframe thead th {\n",
              "        text-align: right;\n",
              "    }\n",
              "</style>\n",
              "<table border=\"1\" class=\"dataframe\">\n",
              "  <thead>\n",
              "    <tr style=\"text-align: right;\">\n",
              "      <th></th>\n",
              "      <th>V1</th>\n",
              "      <th>V2</th>\n",
              "      <th>V3</th>\n",
              "    </tr>\n",
              "  </thead>\n",
              "  <tbody>\n",
              "    <tr>\n",
              "      <th>0</th>\n",
              "      <td>1.0</td>\n",
              "      <td>7.0</td>\n",
              "      <td>NaN</td>\n",
              "    </tr>\n",
              "    <tr>\n",
              "      <th>1</th>\n",
              "      <td>3.0</td>\n",
              "      <td>NaN</td>\n",
              "      <td>12.0</td>\n",
              "    </tr>\n",
              "    <tr>\n",
              "      <th>2</th>\n",
              "      <td>6.0</td>\n",
              "      <td>5.0</td>\n",
              "      <td>5.0</td>\n",
              "    </tr>\n",
              "    <tr>\n",
              "      <th>3</th>\n",
              "      <td>NaN</td>\n",
              "      <td>8.0</td>\n",
              "      <td>6.0</td>\n",
              "    </tr>\n",
              "    <tr>\n",
              "      <th>4</th>\n",
              "      <td>7.0</td>\n",
              "      <td>12.0</td>\n",
              "      <td>14.0</td>\n",
              "    </tr>\n",
              "    <tr>\n",
              "      <th>5</th>\n",
              "      <td>1.0</td>\n",
              "      <td>2.0</td>\n",
              "      <td>7.0</td>\n",
              "    </tr>\n",
              "    <tr>\n",
              "      <th>7</th>\n",
              "      <td>9.0</td>\n",
              "      <td>3.0</td>\n",
              "      <td>2.0</td>\n",
              "    </tr>\n",
              "    <tr>\n",
              "      <th>8</th>\n",
              "      <td>15.0</td>\n",
              "      <td>9.0</td>\n",
              "      <td>31.0</td>\n",
              "    </tr>\n",
              "  </tbody>\n",
              "</table>\n",
              "</div>"
            ],
            "text/plain": [
              "     V1    V2    V3\n",
              "0   1.0   7.0   NaN\n",
              "1   3.0   NaN  12.0\n",
              "2   6.0   5.0   5.0\n",
              "3   NaN   8.0   6.0\n",
              "4   7.0  12.0  14.0\n",
              "5   1.0   2.0   7.0\n",
              "7   9.0   3.0   2.0\n",
              "8  15.0   9.0  31.0"
            ]
          },
          "metadata": {
            "tags": []
          },
          "execution_count": 227
        }
      ]
    },
    {
      "cell_type": "markdown",
      "metadata": {
        "id": "UjQueZ3obySd",
        "colab_type": "text"
      },
      "source": [
        "### Kategorik Değişken Kırılımında Değer atama"
      ]
    },
    {
      "cell_type": "code",
      "metadata": {
        "id": "eXR6dpjabxVE",
        "colab_type": "code",
        "colab": {
          "base_uri": "https://localhost:8080/",
          "height": 328
        },
        "outputId": "d51072c5-295a-4707-e9ed-c53ef9ebffe3"
      },
      "source": [
        "V1 = np.array([1,3,6,np.NaN,7,1,np.NaN,9,15])\n",
        "V2 = np.array([7,np.NaN,5,8,12,np.NaN,np.NaN,2,3])\n",
        "V3 = np.array([np.NaN,12,5,6,14,7,np.NaN,2,31])\n",
        "V4 = np.array([\"IT\",\"IT\",\"IK\",\"IK\",\"IK\",\"IK\",\"IK\",\"IT\",\"IT\"])\n",
        "\n",
        "df = pd.DataFrame(\n",
        "        {\"maas\" : V1,\n",
        "         \"V2\" : V2,\n",
        "         \"V3\" : V3,\n",
        "        \"departman\" : V4}        \n",
        ")\n",
        "\n",
        "df"
      ],
      "execution_count": 235,
      "outputs": [
        {
          "output_type": "execute_result",
          "data": {
            "text/html": [
              "<div>\n",
              "<style scoped>\n",
              "    .dataframe tbody tr th:only-of-type {\n",
              "        vertical-align: middle;\n",
              "    }\n",
              "\n",
              "    .dataframe tbody tr th {\n",
              "        vertical-align: top;\n",
              "    }\n",
              "\n",
              "    .dataframe thead th {\n",
              "        text-align: right;\n",
              "    }\n",
              "</style>\n",
              "<table border=\"1\" class=\"dataframe\">\n",
              "  <thead>\n",
              "    <tr style=\"text-align: right;\">\n",
              "      <th></th>\n",
              "      <th>maas</th>\n",
              "      <th>V2</th>\n",
              "      <th>V3</th>\n",
              "      <th>departman</th>\n",
              "    </tr>\n",
              "  </thead>\n",
              "  <tbody>\n",
              "    <tr>\n",
              "      <th>0</th>\n",
              "      <td>1.0</td>\n",
              "      <td>7.0</td>\n",
              "      <td>NaN</td>\n",
              "      <td>IT</td>\n",
              "    </tr>\n",
              "    <tr>\n",
              "      <th>1</th>\n",
              "      <td>3.0</td>\n",
              "      <td>NaN</td>\n",
              "      <td>12.0</td>\n",
              "      <td>IT</td>\n",
              "    </tr>\n",
              "    <tr>\n",
              "      <th>2</th>\n",
              "      <td>6.0</td>\n",
              "      <td>5.0</td>\n",
              "      <td>5.0</td>\n",
              "      <td>IK</td>\n",
              "    </tr>\n",
              "    <tr>\n",
              "      <th>3</th>\n",
              "      <td>NaN</td>\n",
              "      <td>8.0</td>\n",
              "      <td>6.0</td>\n",
              "      <td>IK</td>\n",
              "    </tr>\n",
              "    <tr>\n",
              "      <th>4</th>\n",
              "      <td>7.0</td>\n",
              "      <td>12.0</td>\n",
              "      <td>14.0</td>\n",
              "      <td>IK</td>\n",
              "    </tr>\n",
              "    <tr>\n",
              "      <th>5</th>\n",
              "      <td>1.0</td>\n",
              "      <td>NaN</td>\n",
              "      <td>7.0</td>\n",
              "      <td>IK</td>\n",
              "    </tr>\n",
              "    <tr>\n",
              "      <th>6</th>\n",
              "      <td>NaN</td>\n",
              "      <td>NaN</td>\n",
              "      <td>NaN</td>\n",
              "      <td>IK</td>\n",
              "    </tr>\n",
              "    <tr>\n",
              "      <th>7</th>\n",
              "      <td>9.0</td>\n",
              "      <td>2.0</td>\n",
              "      <td>2.0</td>\n",
              "      <td>IT</td>\n",
              "    </tr>\n",
              "    <tr>\n",
              "      <th>8</th>\n",
              "      <td>15.0</td>\n",
              "      <td>3.0</td>\n",
              "      <td>31.0</td>\n",
              "      <td>IT</td>\n",
              "    </tr>\n",
              "  </tbody>\n",
              "</table>\n",
              "</div>"
            ],
            "text/plain": [
              "   maas    V2    V3 departman\n",
              "0   1.0   7.0   NaN        IT\n",
              "1   3.0   NaN  12.0        IT\n",
              "2   6.0   5.0   5.0        IK\n",
              "3   NaN   8.0   6.0        IK\n",
              "4   7.0  12.0  14.0        IK\n",
              "5   1.0   NaN   7.0        IK\n",
              "6   NaN   NaN   NaN        IK\n",
              "7   9.0   2.0   2.0        IT\n",
              "8  15.0   3.0  31.0        IT"
            ]
          },
          "metadata": {
            "tags": []
          },
          "execution_count": 235
        }
      ]
    },
    {
      "cell_type": "code",
      "metadata": {
        "id": "uF6Xw68dcGBF",
        "colab_type": "code",
        "colab": {
          "base_uri": "https://localhost:8080/",
          "height": 85
        },
        "outputId": "aa7a040c-65e7-468f-a103-deca095e15a8"
      },
      "source": [
        "df.groupby(\"departman\")[\"maas\"].mean()"
      ],
      "execution_count": 236,
      "outputs": [
        {
          "output_type": "execute_result",
          "data": {
            "text/plain": [
              "departman\n",
              "IK    4.666667\n",
              "IT    7.000000\n",
              "Name: maas, dtype: float64"
            ]
          },
          "metadata": {
            "tags": []
          },
          "execution_count": 236
        }
      ]
    },
    {
      "cell_type": "code",
      "metadata": {
        "id": "OQs_wpc4cRMB",
        "colab_type": "code",
        "colab": {
          "base_uri": "https://localhost:8080/",
          "height": 187
        },
        "outputId": "598e3770-84bb-40a1-856e-dc32330fba84"
      },
      "source": [
        "df[\"maas\"].fillna(df.groupby(\"departman\")[\"maas\"].transform(\"mean\"))"
      ],
      "execution_count": 240,
      "outputs": [
        {
          "output_type": "execute_result",
          "data": {
            "text/plain": [
              "0     1.000000\n",
              "1     3.000000\n",
              "2     6.000000\n",
              "3     4.666667\n",
              "4     7.000000\n",
              "5     1.000000\n",
              "6     4.666667\n",
              "7     9.000000\n",
              "8    15.000000\n",
              "Name: maas, dtype: float64"
            ]
          },
          "metadata": {
            "tags": []
          },
          "execution_count": 240
        }
      ]
    },
    {
      "cell_type": "markdown",
      "metadata": {
        "id": "Q78p2hN2bH12",
        "colab_type": "text"
      },
      "source": [
        "### Tahmine Dayalı Değer Atama Yöntemleri"
      ]
    },
    {
      "cell_type": "code",
      "metadata": {
        "id": "t6Q443MybH12",
        "colab_type": "code",
        "colab": {
          "base_uri": "https://localhost:8080/",
          "height": 238
        },
        "outputId": "3c822e40-feb8-49cf-9e60-0816f4d37a2e"
      },
      "source": [
        "import seaborn as sns\n",
        "import missingno as msno\n",
        "df = sns.load_dataset('titanic')\n",
        "df = df.select_dtypes(include = ['float64', 'int64'])\n",
        "print(df.head())\n",
        "df.isnull().sum()"
      ],
      "execution_count": 243,
      "outputs": [
        {
          "output_type": "stream",
          "text": [
            "   survived  pclass   age  sibsp  parch     fare\n",
            "0         0       3  22.0      1      0   7.2500\n",
            "1         1       1  38.0      1      0  71.2833\n",
            "2         1       3  26.0      0      0   7.9250\n",
            "3         1       1  35.0      1      0  53.1000\n",
            "4         0       3  35.0      0      0   8.0500\n"
          ],
          "name": "stdout"
        },
        {
          "output_type": "execute_result",
          "data": {
            "text/plain": [
              "survived      0\n",
              "pclass        0\n",
              "age         177\n",
              "sibsp         0\n",
              "parch         0\n",
              "fare          0\n",
              "dtype: int64"
            ]
          },
          "metadata": {
            "tags": []
          },
          "execution_count": 243
        }
      ]
    },
    {
      "cell_type": "code",
      "metadata": {
        "id": "OrKmPXv8bH13",
        "colab_type": "code",
        "colab": {
          "base_uri": "https://localhost:8080/",
          "height": 153
        },
        "outputId": "75c2e9bc-2e1a-46ac-d0f2-28b18f12345d"
      },
      "source": [
        "!pip install ycimpute"
      ],
      "execution_count": 247,
      "outputs": [
        {
          "output_type": "stream",
          "text": [
            "Requirement already satisfied: ycimpute in /usr/local/lib/python3.6/dist-packages (0.2)\n",
            "Requirement already satisfied: scikit-learn>=0.17.1 in /usr/local/lib/python3.6/dist-packages (from ycimpute) (0.22.2.post1)\n",
            "Requirement already satisfied: six in /usr/local/lib/python3.6/dist-packages (from ycimpute) (1.12.0)\n",
            "Requirement already satisfied: numpy>=1.10 in /usr/local/lib/python3.6/dist-packages (from ycimpute) (1.18.4)\n",
            "Requirement already satisfied: scipy in /usr/local/lib/python3.6/dist-packages (from ycimpute) (1.4.1)\n",
            "Requirement already satisfied: torch>=1.1.0 in /usr/local/lib/python3.6/dist-packages (from ycimpute) (1.5.0+cu101)\n",
            "Requirement already satisfied: joblib>=0.11 in /usr/local/lib/python3.6/dist-packages (from scikit-learn>=0.17.1->ycimpute) (0.15.1)\n",
            "Requirement already satisfied: future in /usr/local/lib/python3.6/dist-packages (from torch>=1.1.0->ycimpute) (0.16.0)\n"
          ],
          "name": "stdout"
        }
      ]
    },
    {
      "cell_type": "code",
      "metadata": {
        "id": "d8xemrVZbH15",
        "colab_type": "code",
        "colab": {}
      },
      "source": [
        "from ycimpute.imputer import knnimput"
      ],
      "execution_count": 0,
      "outputs": []
    },
    {
      "cell_type": "code",
      "metadata": {
        "id": "7-gPxe_ibH1-",
        "colab_type": "code",
        "colab": {
          "base_uri": "https://localhost:8080/",
          "height": 34
        },
        "outputId": "d35fea19-fa18-4ae8-d077-39184b849d1e"
      },
      "source": [
        "var_names = list(df)\n",
        "var_names"
      ],
      "execution_count": 249,
      "outputs": [
        {
          "output_type": "execute_result",
          "data": {
            "text/plain": [
              "['survived', 'pclass', 'age', 'sibsp', 'parch', 'fare']"
            ]
          },
          "metadata": {
            "tags": []
          },
          "execution_count": 249
        }
      ]
    },
    {
      "cell_type": "code",
      "metadata": {
        "id": "2wkP-A9Aep0S",
        "colab_type": "code",
        "colab": {}
      },
      "source": [
        "import numpy as np\n",
        "n_df = np.array(df)"
      ],
      "execution_count": 0,
      "outputs": []
    },
    {
      "cell_type": "code",
      "metadata": {
        "id": "Vwr88ziSes-5",
        "colab_type": "code",
        "colab": {
          "base_uri": "https://localhost:8080/",
          "height": 187
        },
        "outputId": "ccebf5f2-041e-436e-aa96-dfc15cb070d6"
      },
      "source": [
        "n_df[0:10]"
      ],
      "execution_count": 251,
      "outputs": [
        {
          "output_type": "execute_result",
          "data": {
            "text/plain": [
              "array([[ 0.    ,  3.    , 22.    ,  1.    ,  0.    ,  7.25  ],\n",
              "       [ 1.    ,  1.    , 38.    ,  1.    ,  0.    , 71.2833],\n",
              "       [ 1.    ,  3.    , 26.    ,  0.    ,  0.    ,  7.925 ],\n",
              "       [ 1.    ,  1.    , 35.    ,  1.    ,  0.    , 53.1   ],\n",
              "       [ 0.    ,  3.    , 35.    ,  0.    ,  0.    ,  8.05  ],\n",
              "       [ 0.    ,  3.    ,     nan,  0.    ,  0.    ,  8.4583],\n",
              "       [ 0.    ,  1.    , 54.    ,  0.    ,  0.    , 51.8625],\n",
              "       [ 0.    ,  3.    ,  2.    ,  3.    ,  1.    , 21.075 ],\n",
              "       [ 1.    ,  3.    , 27.    ,  0.    ,  2.    , 11.1333],\n",
              "       [ 1.    ,  2.    , 14.    ,  1.    ,  0.    , 30.0708]])"
            ]
          },
          "metadata": {
            "tags": []
          },
          "execution_count": 251
        }
      ]
    },
    {
      "cell_type": "code",
      "metadata": {
        "id": "wXv_KWYoew3U",
        "colab_type": "code",
        "colab": {
          "base_uri": "https://localhost:8080/",
          "height": 34
        },
        "outputId": "94c11a53-87ee-4253-c94c-055d8adcc118"
      },
      "source": [
        "n_df.shape"
      ],
      "execution_count": 252,
      "outputs": [
        {
          "output_type": "execute_result",
          "data": {
            "text/plain": [
              "(891, 6)"
            ]
          },
          "metadata": {
            "tags": []
          },
          "execution_count": 252
        }
      ]
    },
    {
      "cell_type": "code",
      "metadata": {
        "id": "adUy3m28ezyP",
        "colab_type": "code",
        "colab": {
          "base_uri": "https://localhost:8080/",
          "height": 170
        },
        "outputId": "1bcefa5d-abe4-4a31-eb70-f50462078517"
      },
      "source": [
        "dff = knnimput.KNN(k = 4).complete(n_df)"
      ],
      "execution_count": 253,
      "outputs": [
        {
          "output_type": "stream",
          "text": [
            "Imputing row 1/891 with 0 missing, elapsed time: 0.135\n",
            "Imputing row 101/891 with 0 missing, elapsed time: 0.136\n",
            "Imputing row 201/891 with 0 missing, elapsed time: 0.137\n",
            "Imputing row 301/891 with 1 missing, elapsed time: 0.138\n",
            "Imputing row 401/891 with 0 missing, elapsed time: 0.139\n",
            "Imputing row 501/891 with 0 missing, elapsed time: 0.140\n",
            "Imputing row 601/891 with 0 missing, elapsed time: 0.141\n",
            "Imputing row 701/891 with 0 missing, elapsed time: 0.142\n",
            "Imputing row 801/891 with 0 missing, elapsed time: 0.143\n"
          ],
          "name": "stdout"
        }
      ]
    },
    {
      "cell_type": "code",
      "metadata": {
        "id": "X6p1zFxme4Oj",
        "colab_type": "code",
        "colab": {
          "base_uri": "https://localhost:8080/",
          "height": 34
        },
        "outputId": "14f5415e-d146-4f22-a9ae-44801d6e14db"
      },
      "source": [
        "type(dff)"
      ],
      "execution_count": 254,
      "outputs": [
        {
          "output_type": "execute_result",
          "data": {
            "text/plain": [
              "numpy.ndarray"
            ]
          },
          "metadata": {
            "tags": []
          },
          "execution_count": 254
        }
      ]
    },
    {
      "cell_type": "code",
      "metadata": {
        "id": "7QXTDmf_e7UI",
        "colab_type": "code",
        "colab": {}
      },
      "source": [
        "import pandas as pd\n",
        "dff = pd.DataFrame(dff, columns = var_names)"
      ],
      "execution_count": 0,
      "outputs": []
    },
    {
      "cell_type": "code",
      "metadata": {
        "id": "qta0a7Uhe_GN",
        "colab_type": "code",
        "colab": {
          "base_uri": "https://localhost:8080/",
          "height": 34
        },
        "outputId": "845a736e-2d80-4e0b-a456-8b58f9062b88"
      },
      "source": [
        "type(dff)"
      ],
      "execution_count": 256,
      "outputs": [
        {
          "output_type": "execute_result",
          "data": {
            "text/plain": [
              "pandas.core.frame.DataFrame"
            ]
          },
          "metadata": {
            "tags": []
          },
          "execution_count": 256
        }
      ]
    },
    {
      "cell_type": "code",
      "metadata": {
        "id": "SaER8ozpfCc8",
        "colab_type": "code",
        "colab": {
          "base_uri": "https://localhost:8080/",
          "height": 136
        },
        "outputId": "99f2ac42-01bf-45f5-c869-8d36b98d1d42"
      },
      "source": [
        "dff.isnull().sum()"
      ],
      "execution_count": 257,
      "outputs": [
        {
          "output_type": "execute_result",
          "data": {
            "text/plain": [
              "survived    0\n",
              "pclass      0\n",
              "age         0\n",
              "sibsp       0\n",
              "parch       0\n",
              "fare        0\n",
              "dtype: int64"
            ]
          },
          "metadata": {
            "tags": []
          },
          "execution_count": 257
        }
      ]
    },
    {
      "cell_type": "markdown",
      "metadata": {
        "id": "b2xWfDfZbH2G",
        "colab_type": "text"
      },
      "source": [
        "### Veri Standardizasyonu & Değişken Dönüşümleri"
      ]
    },
    {
      "cell_type": "code",
      "metadata": {
        "id": "e749R0XkbH2G",
        "colab_type": "code",
        "colab": {}
      },
      "source": [
        "# standartlaştırmak demek veriyi karşılaştırılabilirlik kaygısıyla ele aldığımız zaman bozmadan bir kalıba uydurmak anlamına gelir.\n",
        "# değişken dönüşümü ise verinin varyasyonu korunarak ölçeğinin değiştirilmesi anlamına gelir."
      ],
      "execution_count": 0,
      "outputs": []
    },
    {
      "cell_type": "code",
      "metadata": {
        "id": "kZ7NmmBZbH2H",
        "colab_type": "code",
        "colab": {
          "base_uri": "https://localhost:8080/",
          "height": 204
        },
        "outputId": "ac6fc076-a04b-40a9-f0e2-35e3611c92dc"
      },
      "source": [
        "import numpy as np\n",
        "import pandas as pd\n",
        "V1 = np.array([1,3,6,5,7])\n",
        "V2 = np.array([7,7,5,8,12])\n",
        "V3 = np.array([6,12,5,6,14])\n",
        "df = pd.DataFrame(\n",
        "        {\"V1\" : V1,\n",
        "         \"V2\" : V2,\n",
        "         \"V3\" : V3})\n",
        "\n",
        "df = df.astype(float)\n",
        "df"
      ],
      "execution_count": 262,
      "outputs": [
        {
          "output_type": "execute_result",
          "data": {
            "text/html": [
              "<div>\n",
              "<style scoped>\n",
              "    .dataframe tbody tr th:only-of-type {\n",
              "        vertical-align: middle;\n",
              "    }\n",
              "\n",
              "    .dataframe tbody tr th {\n",
              "        vertical-align: top;\n",
              "    }\n",
              "\n",
              "    .dataframe thead th {\n",
              "        text-align: right;\n",
              "    }\n",
              "</style>\n",
              "<table border=\"1\" class=\"dataframe\">\n",
              "  <thead>\n",
              "    <tr style=\"text-align: right;\">\n",
              "      <th></th>\n",
              "      <th>V1</th>\n",
              "      <th>V2</th>\n",
              "      <th>V3</th>\n",
              "    </tr>\n",
              "  </thead>\n",
              "  <tbody>\n",
              "    <tr>\n",
              "      <th>0</th>\n",
              "      <td>1.0</td>\n",
              "      <td>7.0</td>\n",
              "      <td>6.0</td>\n",
              "    </tr>\n",
              "    <tr>\n",
              "      <th>1</th>\n",
              "      <td>3.0</td>\n",
              "      <td>7.0</td>\n",
              "      <td>12.0</td>\n",
              "    </tr>\n",
              "    <tr>\n",
              "      <th>2</th>\n",
              "      <td>6.0</td>\n",
              "      <td>5.0</td>\n",
              "      <td>5.0</td>\n",
              "    </tr>\n",
              "    <tr>\n",
              "      <th>3</th>\n",
              "      <td>5.0</td>\n",
              "      <td>8.0</td>\n",
              "      <td>6.0</td>\n",
              "    </tr>\n",
              "    <tr>\n",
              "      <th>4</th>\n",
              "      <td>7.0</td>\n",
              "      <td>12.0</td>\n",
              "      <td>14.0</td>\n",
              "    </tr>\n",
              "  </tbody>\n",
              "</table>\n",
              "</div>"
            ],
            "text/plain": [
              "    V1    V2    V3\n",
              "0  1.0   7.0   6.0\n",
              "1  3.0   7.0  12.0\n",
              "2  6.0   5.0   5.0\n",
              "3  5.0   8.0   6.0\n",
              "4  7.0  12.0  14.0"
            ]
          },
          "metadata": {
            "tags": []
          },
          "execution_count": 262
        }
      ]
    },
    {
      "cell_type": "code",
      "metadata": {
        "id": "5ulVMNaWbH2J",
        "colab_type": "code",
        "colab": {}
      },
      "source": [
        "# değişkenleri ortalaması 0 standart sapması 1 olacak şekilde standartlaştıralım"
      ],
      "execution_count": 0,
      "outputs": []
    },
    {
      "cell_type": "code",
      "metadata": {
        "id": "viEkvTQhbH2K",
        "colab_type": "code",
        "colab": {}
      },
      "source": [
        "from sklearn import preprocessing "
      ],
      "execution_count": 0,
      "outputs": []
    },
    {
      "cell_type": "code",
      "metadata": {
        "id": "lF9Gl1dDbH2M",
        "colab_type": "code",
        "colab": {
          "base_uri": "https://localhost:8080/",
          "height": 102
        },
        "outputId": "da4ffa5b-1b33-412d-dc23-79d47f87a6af"
      },
      "source": [
        "preprocessing.scale(df) \n",
        "# verinin kıyaslanabilirliği bozulmadı."
      ],
      "execution_count": 266,
      "outputs": [
        {
          "output_type": "execute_result",
          "data": {
            "text/plain": [
              "array([[-1.57841037, -0.34554737, -0.70920814],\n",
              "       [-0.64993368, -0.34554737,  0.92742603],\n",
              "       [ 0.74278135, -1.2094158 , -0.98198051],\n",
              "       [ 0.27854301,  0.08638684, -0.70920814],\n",
              "       [ 1.2070197 ,  1.81412369,  1.47297076]])"
            ]
          },
          "metadata": {
            "tags": []
          },
          "execution_count": 266
        }
      ]
    },
    {
      "cell_type": "markdown",
      "metadata": {
        "id": "a3NBK2W-bH2O",
        "colab_type": "text"
      },
      "source": [
        "#### Normalizsyon"
      ]
    },
    {
      "cell_type": "code",
      "metadata": {
        "id": "GETwInlzbH2O",
        "colab_type": "code",
        "colab": {
          "base_uri": "https://localhost:8080/",
          "height": 102
        },
        "outputId": "dd2f102c-c2cf-4279-dabe-2ce404f0e006"
      },
      "source": [
        "preprocessing.normalize(df) # 0 1 aralığında olacak şekilde dönüştürüyor."
      ],
      "execution_count": 268,
      "outputs": [
        {
          "output_type": "execute_result",
          "data": {
            "text/plain": [
              "array([[0.10783277, 0.75482941, 0.64699664],\n",
              "       [0.21107926, 0.49251828, 0.84431705],\n",
              "       [0.64699664, 0.53916387, 0.53916387],\n",
              "       [0.4472136 , 0.71554175, 0.53665631],\n",
              "       [0.35491409, 0.60842415, 0.70982818]])"
            ]
          },
          "metadata": {
            "tags": []
          },
          "execution_count": 268
        }
      ]
    },
    {
      "cell_type": "markdown",
      "metadata": {
        "id": "BkNoXFgybH2P",
        "colab_type": "text"
      },
      "source": [
        "#### Mİn-Max dönüşümü\n"
      ]
    },
    {
      "cell_type": "code",
      "metadata": {
        "id": "BTqkvIEMbH2P",
        "colab_type": "code",
        "colab": {
          "base_uri": "https://localhost:8080/",
          "height": 102
        },
        "outputId": "fb86adb3-ffc6-4984-eb68-f838c2cc9289"
      },
      "source": [
        "# bir değişkenin değerlerini istediğimiz iki aralığa dönüştürür.\n",
        "scaler = preprocessing.MinMaxScaler(feature_range = (10,20))# ölçekleyicimiz.\n",
        "\n",
        "scaler.fit_transform(df) # burda varyans korundu ancak ölçek değişti daha yayvan oldu mesela ama kendi aralarındaki yayılım korundu."
      ],
      "execution_count": 269,
      "outputs": [
        {
          "output_type": "execute_result",
          "data": {
            "text/plain": [
              "array([[10.        , 12.85714286, 11.11111111],\n",
              "       [13.33333333, 12.85714286, 17.77777778],\n",
              "       [18.33333333, 10.        , 10.        ],\n",
              "       [16.66666667, 14.28571429, 11.11111111],\n",
              "       [20.        , 20.        , 20.        ]])"
            ]
          },
          "metadata": {
            "tags": []
          },
          "execution_count": 269
        }
      ]
    },
    {
      "cell_type": "markdown",
      "metadata": {
        "id": "L7u0WbGAbH2S",
        "colab_type": "text"
      },
      "source": [
        "#### Binarize Dönüşüm"
      ]
    },
    {
      "cell_type": "code",
      "metadata": {
        "id": "_aXtTOhMbH2T",
        "colab_type": "code",
        "colab": {}
      },
      "source": [
        "# belli bir eşiğe \n",
        "binarizer = preprocessing.Binarizer(threshhold = 5).fit(df)\n",
        "binarizer.transform(df)\n",
        "# 5 den küçük olanlar 0 dönecek"
      ],
      "execution_count": 0,
      "outputs": []
    },
    {
      "cell_type": "markdown",
      "metadata": {
        "id": "haNXH0txbH2U",
        "colab_type": "text"
      },
      "source": [
        "#### 0-1 Dönüşümü"
      ]
    },
    {
      "cell_type": "code",
      "metadata": {
        "id": "zuTL6_fFbH2U",
        "colab_type": "code",
        "colab": {}
      },
      "source": [
        "# kategorik değişkeni 1 ve 0 gibi numerik değerlere çevirerek işlemlerimizde fayda sağlayabiliyor."
      ],
      "execution_count": 0,
      "outputs": []
    },
    {
      "cell_type": "code",
      "metadata": {
        "id": "vulkq51gbH2W",
        "colab_type": "code",
        "colab": {}
      },
      "source": [
        "import seaborn as sns\n",
        "tips = sns.load_dataset(\"tips\")\n",
        "df = tips.copy()\n",
        "df_l = df.copy()\n",
        "# amacım burdaki cinsiyet değişkenini 0 ve 1 e çevirmek."
      ],
      "execution_count": 0,
      "outputs": []
    },
    {
      "cell_type": "code",
      "metadata": {
        "id": "fdrSw65_bH2Z",
        "colab_type": "code",
        "colab": {}
      },
      "source": [
        "\n",
        "df_l[\"yeni_sex\"] = df_l[\"sex\"].cat.codes\n",
        "# burda oluşturacağımız yeni değişken kategorisi 1 ve 0 a çevrilecektir."
      ],
      "execution_count": 0,
      "outputs": []
    },
    {
      "cell_type": "code",
      "metadata": {
        "id": "w57VLE5BbH2a",
        "colab_type": "code",
        "colab": {
          "base_uri": "https://localhost:8080/",
          "height": 419
        },
        "outputId": "b3276216-6579-42fd-8aa5-0089f90e3af1"
      },
      "source": [
        "lbe = preprocessing.LabelEncoder()\n",
        "df_l[\"daha_yeni_sex\"] = lbe.fit_transform(df[\"sex\"])\n",
        "df\n",
        "# ilk yakaladığı değişkene 0 atarken cat.codes ilk yakaladığı değişkene 1 atar sınıflandırma problemi olmamaı için dikkat etmek gerekir."
      ],
      "execution_count": 272,
      "outputs": [
        {
          "output_type": "execute_result",
          "data": {
            "text/html": [
              "<div>\n",
              "<style scoped>\n",
              "    .dataframe tbody tr th:only-of-type {\n",
              "        vertical-align: middle;\n",
              "    }\n",
              "\n",
              "    .dataframe tbody tr th {\n",
              "        vertical-align: top;\n",
              "    }\n",
              "\n",
              "    .dataframe thead th {\n",
              "        text-align: right;\n",
              "    }\n",
              "</style>\n",
              "<table border=\"1\" class=\"dataframe\">\n",
              "  <thead>\n",
              "    <tr style=\"text-align: right;\">\n",
              "      <th></th>\n",
              "      <th>total_bill</th>\n",
              "      <th>tip</th>\n",
              "      <th>sex</th>\n",
              "      <th>smoker</th>\n",
              "      <th>day</th>\n",
              "      <th>time</th>\n",
              "      <th>size</th>\n",
              "    </tr>\n",
              "  </thead>\n",
              "  <tbody>\n",
              "    <tr>\n",
              "      <th>0</th>\n",
              "      <td>16.99</td>\n",
              "      <td>1.01</td>\n",
              "      <td>Female</td>\n",
              "      <td>No</td>\n",
              "      <td>Sun</td>\n",
              "      <td>Dinner</td>\n",
              "      <td>2</td>\n",
              "    </tr>\n",
              "    <tr>\n",
              "      <th>1</th>\n",
              "      <td>10.34</td>\n",
              "      <td>1.66</td>\n",
              "      <td>Male</td>\n",
              "      <td>No</td>\n",
              "      <td>Sun</td>\n",
              "      <td>Dinner</td>\n",
              "      <td>3</td>\n",
              "    </tr>\n",
              "    <tr>\n",
              "      <th>2</th>\n",
              "      <td>21.01</td>\n",
              "      <td>3.50</td>\n",
              "      <td>Male</td>\n",
              "      <td>No</td>\n",
              "      <td>Sun</td>\n",
              "      <td>Dinner</td>\n",
              "      <td>3</td>\n",
              "    </tr>\n",
              "    <tr>\n",
              "      <th>3</th>\n",
              "      <td>23.68</td>\n",
              "      <td>3.31</td>\n",
              "      <td>Male</td>\n",
              "      <td>No</td>\n",
              "      <td>Sun</td>\n",
              "      <td>Dinner</td>\n",
              "      <td>2</td>\n",
              "    </tr>\n",
              "    <tr>\n",
              "      <th>4</th>\n",
              "      <td>24.59</td>\n",
              "      <td>3.61</td>\n",
              "      <td>Female</td>\n",
              "      <td>No</td>\n",
              "      <td>Sun</td>\n",
              "      <td>Dinner</td>\n",
              "      <td>4</td>\n",
              "    </tr>\n",
              "    <tr>\n",
              "      <th>...</th>\n",
              "      <td>...</td>\n",
              "      <td>...</td>\n",
              "      <td>...</td>\n",
              "      <td>...</td>\n",
              "      <td>...</td>\n",
              "      <td>...</td>\n",
              "      <td>...</td>\n",
              "    </tr>\n",
              "    <tr>\n",
              "      <th>239</th>\n",
              "      <td>29.03</td>\n",
              "      <td>5.92</td>\n",
              "      <td>Male</td>\n",
              "      <td>No</td>\n",
              "      <td>Sat</td>\n",
              "      <td>Dinner</td>\n",
              "      <td>3</td>\n",
              "    </tr>\n",
              "    <tr>\n",
              "      <th>240</th>\n",
              "      <td>27.18</td>\n",
              "      <td>2.00</td>\n",
              "      <td>Female</td>\n",
              "      <td>Yes</td>\n",
              "      <td>Sat</td>\n",
              "      <td>Dinner</td>\n",
              "      <td>2</td>\n",
              "    </tr>\n",
              "    <tr>\n",
              "      <th>241</th>\n",
              "      <td>22.67</td>\n",
              "      <td>2.00</td>\n",
              "      <td>Male</td>\n",
              "      <td>Yes</td>\n",
              "      <td>Sat</td>\n",
              "      <td>Dinner</td>\n",
              "      <td>2</td>\n",
              "    </tr>\n",
              "    <tr>\n",
              "      <th>242</th>\n",
              "      <td>17.82</td>\n",
              "      <td>1.75</td>\n",
              "      <td>Male</td>\n",
              "      <td>No</td>\n",
              "      <td>Sat</td>\n",
              "      <td>Dinner</td>\n",
              "      <td>2</td>\n",
              "    </tr>\n",
              "    <tr>\n",
              "      <th>243</th>\n",
              "      <td>18.78</td>\n",
              "      <td>3.00</td>\n",
              "      <td>Female</td>\n",
              "      <td>No</td>\n",
              "      <td>Thur</td>\n",
              "      <td>Dinner</td>\n",
              "      <td>2</td>\n",
              "    </tr>\n",
              "  </tbody>\n",
              "</table>\n",
              "<p>244 rows × 7 columns</p>\n",
              "</div>"
            ],
            "text/plain": [
              "     total_bill   tip     sex smoker   day    time  size\n",
              "0         16.99  1.01  Female     No   Sun  Dinner     2\n",
              "1         10.34  1.66    Male     No   Sun  Dinner     3\n",
              "2         21.01  3.50    Male     No   Sun  Dinner     3\n",
              "3         23.68  3.31    Male     No   Sun  Dinner     2\n",
              "4         24.59  3.61  Female     No   Sun  Dinner     4\n",
              "..          ...   ...     ...    ...   ...     ...   ...\n",
              "239       29.03  5.92    Male     No   Sat  Dinner     3\n",
              "240       27.18  2.00  Female    Yes   Sat  Dinner     2\n",
              "241       22.67  2.00    Male    Yes   Sat  Dinner     2\n",
              "242       17.82  1.75    Male     No   Sat  Dinner     2\n",
              "243       18.78  3.00  Female     No  Thur  Dinner     2\n",
              "\n",
              "[244 rows x 7 columns]"
            ]
          },
          "metadata": {
            "tags": []
          },
          "execution_count": 272
        }
      ]
    },
    {
      "cell_type": "markdown",
      "metadata": {
        "id": "4gwgeH6_bH2d",
        "colab_type": "text"
      },
      "source": [
        "#### 1 ve diğerleri(0) Dönüşümü"
      ]
    },
    {
      "cell_type": "code",
      "metadata": {
        "id": "rhYOH1a6bH2d",
        "colab_type": "code",
        "colab": {}
      },
      "source": [
        "# 2 den fazla kategorik değişkenden birini 1 olarak atar diğerlerini 0 olarak atar."
      ],
      "execution_count": 0,
      "outputs": []
    },
    {
      "cell_type": "code",
      "metadata": {
        "id": "hhO6_GhUbH2e",
        "colab_type": "code",
        "colab": {}
      },
      "source": [
        "df_l[\"yeni_gun\"] = np.where(df_l[\"day\"].str.contains(\"Sun\"),1,0) # day'lerden Sun olanlara 1 diğerlerine 0."
      ],
      "execution_count": 0,
      "outputs": []
    },
    {
      "cell_type": "markdown",
      "metadata": {
        "id": "OaNXRuOBbH2g",
        "colab_type": "text"
      },
      "source": [
        "#### Çok Sınıflı Dönüşüm"
      ]
    },
    {
      "cell_type": "code",
      "metadata": {
        "id": "iVgRRONzbH2g",
        "colab_type": "code",
        "colab": {}
      },
      "source": [
        "lbl = preprocessing.LabelEncoder()"
      ],
      "execution_count": 0,
      "outputs": []
    },
    {
      "cell_type": "code",
      "metadata": {
        "id": "0iFPF70BbH2h",
        "colab_type": "code",
        "colab": {}
      },
      "source": [
        "df_l[\"daha_yeni_gun\"] = lbe.fit_transform(df_l[\"day\"])"
      ],
      "execution_count": 0,
      "outputs": []
    },
    {
      "cell_type": "code",
      "metadata": {
        "id": "uVeH6qaebH2j",
        "colab_type": "code",
        "colab": {}
      },
      "source": [
        "# bu tarz dönüşümlerde algoritmaların kafası karışabilir. değişkenlerin etkileri bozulmaktadır.çünkü nominal ordinal gibi olur.\n",
        "# ama değişkenler ordinalse sıkıntı olmaz.\n",
        "# bu sebeple one hat encoding denen dönüşümü yapmak gerekir."
      ],
      "execution_count": 0,
      "outputs": []
    },
    {
      "cell_type": "markdown",
      "metadata": {
        "id": "1V3y9go_bH2k",
        "colab_type": "text"
      },
      "source": [
        "#### One Hat Dönüşümü ve Dummy Değişken Tuzağı"
      ]
    },
    {
      "cell_type": "code",
      "metadata": {
        "id": "oChnGxgFbH2k",
        "colab_type": "code",
        "colab": {}
      },
      "source": [
        "df_one_hot = df.copy()"
      ],
      "execution_count": 0,
      "outputs": []
    },
    {
      "cell_type": "code",
      "metadata": {
        "id": "5ZLcLGBZbH2n",
        "colab_type": "code",
        "colab": {
          "base_uri": "https://localhost:8080/",
          "height": 204
        },
        "outputId": "1d1a5817-a3bb-40ca-e515-e83c857498ff"
      },
      "source": [
        "pd.get_dummies(df_one_hot, columns = [\"sex\"],prefix = [\"sex\"]).head() # kategorik değişken çoklanır aynnı anlama  gelen şeyer dummy değişken tuzaağı olur, dikkatt"
      ],
      "execution_count": 281,
      "outputs": [
        {
          "output_type": "execute_result",
          "data": {
            "text/html": [
              "<div>\n",
              "<style scoped>\n",
              "    .dataframe tbody tr th:only-of-type {\n",
              "        vertical-align: middle;\n",
              "    }\n",
              "\n",
              "    .dataframe tbody tr th {\n",
              "        vertical-align: top;\n",
              "    }\n",
              "\n",
              "    .dataframe thead th {\n",
              "        text-align: right;\n",
              "    }\n",
              "</style>\n",
              "<table border=\"1\" class=\"dataframe\">\n",
              "  <thead>\n",
              "    <tr style=\"text-align: right;\">\n",
              "      <th></th>\n",
              "      <th>total_bill</th>\n",
              "      <th>tip</th>\n",
              "      <th>smoker</th>\n",
              "      <th>day</th>\n",
              "      <th>time</th>\n",
              "      <th>size</th>\n",
              "      <th>sex_Male</th>\n",
              "      <th>sex_Female</th>\n",
              "    </tr>\n",
              "  </thead>\n",
              "  <tbody>\n",
              "    <tr>\n",
              "      <th>0</th>\n",
              "      <td>16.99</td>\n",
              "      <td>1.01</td>\n",
              "      <td>No</td>\n",
              "      <td>Sun</td>\n",
              "      <td>Dinner</td>\n",
              "      <td>2</td>\n",
              "      <td>0</td>\n",
              "      <td>1</td>\n",
              "    </tr>\n",
              "    <tr>\n",
              "      <th>1</th>\n",
              "      <td>10.34</td>\n",
              "      <td>1.66</td>\n",
              "      <td>No</td>\n",
              "      <td>Sun</td>\n",
              "      <td>Dinner</td>\n",
              "      <td>3</td>\n",
              "      <td>1</td>\n",
              "      <td>0</td>\n",
              "    </tr>\n",
              "    <tr>\n",
              "      <th>2</th>\n",
              "      <td>21.01</td>\n",
              "      <td>3.50</td>\n",
              "      <td>No</td>\n",
              "      <td>Sun</td>\n",
              "      <td>Dinner</td>\n",
              "      <td>3</td>\n",
              "      <td>1</td>\n",
              "      <td>0</td>\n",
              "    </tr>\n",
              "    <tr>\n",
              "      <th>3</th>\n",
              "      <td>23.68</td>\n",
              "      <td>3.31</td>\n",
              "      <td>No</td>\n",
              "      <td>Sun</td>\n",
              "      <td>Dinner</td>\n",
              "      <td>2</td>\n",
              "      <td>1</td>\n",
              "      <td>0</td>\n",
              "    </tr>\n",
              "    <tr>\n",
              "      <th>4</th>\n",
              "      <td>24.59</td>\n",
              "      <td>3.61</td>\n",
              "      <td>No</td>\n",
              "      <td>Sun</td>\n",
              "      <td>Dinner</td>\n",
              "      <td>4</td>\n",
              "      <td>0</td>\n",
              "      <td>1</td>\n",
              "    </tr>\n",
              "  </tbody>\n",
              "</table>\n",
              "</div>"
            ],
            "text/plain": [
              "   total_bill   tip smoker  day    time  size  sex_Male  sex_Female\n",
              "0       16.99  1.01     No  Sun  Dinner     2         0           1\n",
              "1       10.34  1.66     No  Sun  Dinner     3         1           0\n",
              "2       21.01  3.50     No  Sun  Dinner     3         1           0\n",
              "3       23.68  3.31     No  Sun  Dinner     2         1           0\n",
              "4       24.59  3.61     No  Sun  Dinner     4         0           1"
            ]
          },
          "metadata": {
            "tags": []
          },
          "execution_count": 281
        }
      ]
    },
    {
      "cell_type": "code",
      "metadata": {
        "id": "hdX5nJI9sTLI",
        "colab_type": "code",
        "colab": {
          "base_uri": "https://localhost:8080/",
          "height": 204
        },
        "outputId": "da5a76b3-031e-4275-839e-44c318e04e92"
      },
      "source": [
        "pd.get_dummies(df, columns = [\"day\"], prefix = [\"day\"]).head()"
      ],
      "execution_count": 284,
      "outputs": [
        {
          "output_type": "execute_result",
          "data": {
            "text/html": [
              "<div>\n",
              "<style scoped>\n",
              "    .dataframe tbody tr th:only-of-type {\n",
              "        vertical-align: middle;\n",
              "    }\n",
              "\n",
              "    .dataframe tbody tr th {\n",
              "        vertical-align: top;\n",
              "    }\n",
              "\n",
              "    .dataframe thead th {\n",
              "        text-align: right;\n",
              "    }\n",
              "</style>\n",
              "<table border=\"1\" class=\"dataframe\">\n",
              "  <thead>\n",
              "    <tr style=\"text-align: right;\">\n",
              "      <th></th>\n",
              "      <th>total_bill</th>\n",
              "      <th>tip</th>\n",
              "      <th>sex</th>\n",
              "      <th>smoker</th>\n",
              "      <th>time</th>\n",
              "      <th>size</th>\n",
              "      <th>day_Thur</th>\n",
              "      <th>day_Fri</th>\n",
              "      <th>day_Sat</th>\n",
              "      <th>day_Sun</th>\n",
              "    </tr>\n",
              "  </thead>\n",
              "  <tbody>\n",
              "    <tr>\n",
              "      <th>0</th>\n",
              "      <td>16.99</td>\n",
              "      <td>1.01</td>\n",
              "      <td>Female</td>\n",
              "      <td>No</td>\n",
              "      <td>Dinner</td>\n",
              "      <td>2</td>\n",
              "      <td>0</td>\n",
              "      <td>0</td>\n",
              "      <td>0</td>\n",
              "      <td>1</td>\n",
              "    </tr>\n",
              "    <tr>\n",
              "      <th>1</th>\n",
              "      <td>10.34</td>\n",
              "      <td>1.66</td>\n",
              "      <td>Male</td>\n",
              "      <td>No</td>\n",
              "      <td>Dinner</td>\n",
              "      <td>3</td>\n",
              "      <td>0</td>\n",
              "      <td>0</td>\n",
              "      <td>0</td>\n",
              "      <td>1</td>\n",
              "    </tr>\n",
              "    <tr>\n",
              "      <th>2</th>\n",
              "      <td>21.01</td>\n",
              "      <td>3.50</td>\n",
              "      <td>Male</td>\n",
              "      <td>No</td>\n",
              "      <td>Dinner</td>\n",
              "      <td>3</td>\n",
              "      <td>0</td>\n",
              "      <td>0</td>\n",
              "      <td>0</td>\n",
              "      <td>1</td>\n",
              "    </tr>\n",
              "    <tr>\n",
              "      <th>3</th>\n",
              "      <td>23.68</td>\n",
              "      <td>3.31</td>\n",
              "      <td>Male</td>\n",
              "      <td>No</td>\n",
              "      <td>Dinner</td>\n",
              "      <td>2</td>\n",
              "      <td>0</td>\n",
              "      <td>0</td>\n",
              "      <td>0</td>\n",
              "      <td>1</td>\n",
              "    </tr>\n",
              "    <tr>\n",
              "      <th>4</th>\n",
              "      <td>24.59</td>\n",
              "      <td>3.61</td>\n",
              "      <td>Female</td>\n",
              "      <td>No</td>\n",
              "      <td>Dinner</td>\n",
              "      <td>4</td>\n",
              "      <td>0</td>\n",
              "      <td>0</td>\n",
              "      <td>0</td>\n",
              "      <td>1</td>\n",
              "    </tr>\n",
              "  </tbody>\n",
              "</table>\n",
              "</div>"
            ],
            "text/plain": [
              "   total_bill   tip     sex smoker  ... day_Thur  day_Fri  day_Sat  day_Sun\n",
              "0       16.99  1.01  Female     No  ...        0        0        0        1\n",
              "1       10.34  1.66    Male     No  ...        0        0        0        1\n",
              "2       21.01  3.50    Male     No  ...        0        0        0        1\n",
              "3       23.68  3.31    Male     No  ...        0        0        0        1\n",
              "4       24.59  3.61  Female     No  ...        0        0        0        1\n",
              "\n",
              "[5 rows x 10 columns]"
            ]
          },
          "metadata": {
            "tags": []
          },
          "execution_count": 284
        }
      ]
    },
    {
      "cell_type": "markdown",
      "metadata": {
        "id": "Yb5F41x0bH2r",
        "colab_type": "text"
      },
      "source": [
        "#### Değişkeni İndexe, İndexi değişkene çevirme\n"
      ]
    },
    {
      "cell_type": "code",
      "metadata": {
        "id": "wMONbTbXbH2r",
        "colab_type": "code",
        "colab": {}
      },
      "source": [
        "df[\"yeni_degisken\"] = df.index"
      ],
      "execution_count": 0,
      "outputs": []
    },
    {
      "cell_type": "code",
      "metadata": {
        "id": "NAX5lSL5bH2u",
        "colab_type": "code",
        "colab": {}
      },
      "source": [
        "df[\"yeni_degisken\"] = df.index+10"
      ],
      "execution_count": 0,
      "outputs": []
    },
    {
      "cell_type": "code",
      "metadata": {
        "id": "LW7jtCLqbH2w",
        "colab_type": "code",
        "colab": {}
      },
      "source": [
        "df.index = df[\"yeni_degisken\"]"
      ],
      "execution_count": 0,
      "outputs": []
    },
    {
      "cell_type": "code",
      "metadata": {
        "id": "eWId8CFbbH2y",
        "colab_type": "code",
        "colab": {
          "base_uri": "https://localhost:8080/",
          "height": 450
        },
        "outputId": "c8cc1306-df20-414b-8b75-42c6c28a3efa"
      },
      "source": [
        "df"
      ],
      "execution_count": 290,
      "outputs": [
        {
          "output_type": "execute_result",
          "data": {
            "text/html": [
              "<div>\n",
              "<style scoped>\n",
              "    .dataframe tbody tr th:only-of-type {\n",
              "        vertical-align: middle;\n",
              "    }\n",
              "\n",
              "    .dataframe tbody tr th {\n",
              "        vertical-align: top;\n",
              "    }\n",
              "\n",
              "    .dataframe thead th {\n",
              "        text-align: right;\n",
              "    }\n",
              "</style>\n",
              "<table border=\"1\" class=\"dataframe\">\n",
              "  <thead>\n",
              "    <tr style=\"text-align: right;\">\n",
              "      <th></th>\n",
              "      <th>total_bill</th>\n",
              "      <th>tip</th>\n",
              "      <th>sex</th>\n",
              "      <th>smoker</th>\n",
              "      <th>day</th>\n",
              "      <th>time</th>\n",
              "      <th>size</th>\n",
              "      <th>yeni_degisken</th>\n",
              "    </tr>\n",
              "    <tr>\n",
              "      <th>yeni_degisken</th>\n",
              "      <th></th>\n",
              "      <th></th>\n",
              "      <th></th>\n",
              "      <th></th>\n",
              "      <th></th>\n",
              "      <th></th>\n",
              "      <th></th>\n",
              "      <th></th>\n",
              "    </tr>\n",
              "  </thead>\n",
              "  <tbody>\n",
              "    <tr>\n",
              "      <th>10</th>\n",
              "      <td>16.99</td>\n",
              "      <td>1.01</td>\n",
              "      <td>Female</td>\n",
              "      <td>No</td>\n",
              "      <td>Sun</td>\n",
              "      <td>Dinner</td>\n",
              "      <td>2</td>\n",
              "      <td>10</td>\n",
              "    </tr>\n",
              "    <tr>\n",
              "      <th>11</th>\n",
              "      <td>10.34</td>\n",
              "      <td>1.66</td>\n",
              "      <td>Male</td>\n",
              "      <td>No</td>\n",
              "      <td>Sun</td>\n",
              "      <td>Dinner</td>\n",
              "      <td>3</td>\n",
              "      <td>11</td>\n",
              "    </tr>\n",
              "    <tr>\n",
              "      <th>12</th>\n",
              "      <td>21.01</td>\n",
              "      <td>3.50</td>\n",
              "      <td>Male</td>\n",
              "      <td>No</td>\n",
              "      <td>Sun</td>\n",
              "      <td>Dinner</td>\n",
              "      <td>3</td>\n",
              "      <td>12</td>\n",
              "    </tr>\n",
              "    <tr>\n",
              "      <th>13</th>\n",
              "      <td>23.68</td>\n",
              "      <td>3.31</td>\n",
              "      <td>Male</td>\n",
              "      <td>No</td>\n",
              "      <td>Sun</td>\n",
              "      <td>Dinner</td>\n",
              "      <td>2</td>\n",
              "      <td>13</td>\n",
              "    </tr>\n",
              "    <tr>\n",
              "      <th>14</th>\n",
              "      <td>24.59</td>\n",
              "      <td>3.61</td>\n",
              "      <td>Female</td>\n",
              "      <td>No</td>\n",
              "      <td>Sun</td>\n",
              "      <td>Dinner</td>\n",
              "      <td>4</td>\n",
              "      <td>14</td>\n",
              "    </tr>\n",
              "    <tr>\n",
              "      <th>...</th>\n",
              "      <td>...</td>\n",
              "      <td>...</td>\n",
              "      <td>...</td>\n",
              "      <td>...</td>\n",
              "      <td>...</td>\n",
              "      <td>...</td>\n",
              "      <td>...</td>\n",
              "      <td>...</td>\n",
              "    </tr>\n",
              "    <tr>\n",
              "      <th>249</th>\n",
              "      <td>29.03</td>\n",
              "      <td>5.92</td>\n",
              "      <td>Male</td>\n",
              "      <td>No</td>\n",
              "      <td>Sat</td>\n",
              "      <td>Dinner</td>\n",
              "      <td>3</td>\n",
              "      <td>249</td>\n",
              "    </tr>\n",
              "    <tr>\n",
              "      <th>250</th>\n",
              "      <td>27.18</td>\n",
              "      <td>2.00</td>\n",
              "      <td>Female</td>\n",
              "      <td>Yes</td>\n",
              "      <td>Sat</td>\n",
              "      <td>Dinner</td>\n",
              "      <td>2</td>\n",
              "      <td>250</td>\n",
              "    </tr>\n",
              "    <tr>\n",
              "      <th>251</th>\n",
              "      <td>22.67</td>\n",
              "      <td>2.00</td>\n",
              "      <td>Male</td>\n",
              "      <td>Yes</td>\n",
              "      <td>Sat</td>\n",
              "      <td>Dinner</td>\n",
              "      <td>2</td>\n",
              "      <td>251</td>\n",
              "    </tr>\n",
              "    <tr>\n",
              "      <th>252</th>\n",
              "      <td>17.82</td>\n",
              "      <td>1.75</td>\n",
              "      <td>Male</td>\n",
              "      <td>No</td>\n",
              "      <td>Sat</td>\n",
              "      <td>Dinner</td>\n",
              "      <td>2</td>\n",
              "      <td>252</td>\n",
              "    </tr>\n",
              "    <tr>\n",
              "      <th>253</th>\n",
              "      <td>18.78</td>\n",
              "      <td>3.00</td>\n",
              "      <td>Female</td>\n",
              "      <td>No</td>\n",
              "      <td>Thur</td>\n",
              "      <td>Dinner</td>\n",
              "      <td>2</td>\n",
              "      <td>253</td>\n",
              "    </tr>\n",
              "  </tbody>\n",
              "</table>\n",
              "<p>244 rows × 8 columns</p>\n",
              "</div>"
            ],
            "text/plain": [
              "               total_bill   tip     sex  ...    time size yeni_degisken\n",
              "yeni_degisken                            ...                           \n",
              "10                  16.99  1.01  Female  ...  Dinner    2            10\n",
              "11                  10.34  1.66    Male  ...  Dinner    3            11\n",
              "12                  21.01  3.50    Male  ...  Dinner    3            12\n",
              "13                  23.68  3.31    Male  ...  Dinner    2            13\n",
              "14                  24.59  3.61  Female  ...  Dinner    4            14\n",
              "...                   ...   ...     ...  ...     ...  ...           ...\n",
              "249                 29.03  5.92    Male  ...  Dinner    3           249\n",
              "250                 27.18  2.00  Female  ...  Dinner    2           250\n",
              "251                 22.67  2.00    Male  ...  Dinner    2           251\n",
              "252                 17.82  1.75    Male  ...  Dinner    2           252\n",
              "253                 18.78  3.00  Female  ...  Dinner    2           253\n",
              "\n",
              "[244 rows x 8 columns]"
            ]
          },
          "metadata": {
            "tags": []
          },
          "execution_count": 290
        }
      ]
    }
  ]
}